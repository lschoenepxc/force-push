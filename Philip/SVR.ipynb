{
 "cells": [
  {
   "cell_type": "code",
   "execution_count": 146,
   "metadata": {},
   "outputs": [
    {
     "name": "stdout",
     "output_type": "stream",
     "text": [
      "Index(['Engine speed', 'Engine load', 'Railpressure', 'Air supply',\n",
      "       'Crank angle', 'Intake pressure', 'Back pressure', 'Intake temperature',\n",
      "       'NOx', 'PM 1', 'CO2', 'PM 2', 'Pressure cylinder', 'costs'],\n",
      "      dtype='object')\n",
      "(90, 8)\n"
     ]
    },
    {
     "name": "stderr",
     "output_type": "stream",
     "text": [
      "C:\\Users\\tlcd8x\\AppData\\Local\\Temp\\ipykernel_26276\\3959531890.py:43: FutureWarning: The behavior of DataFrame concatenation with empty or all-NA entries is deprecated. In a future version, this will no longer exclude empty or all-NA columns when determining the result dtypes. To retain the old behavior, exclude the relevant entries before the concat operation.\n",
      "  data = pd.concat([data, queried_data.iloc[:, :13]], axis=0)\n"
     ]
    }
   ],
   "source": [
    "import math\n",
    "import pandas as pd\n",
    "from sklearn.model_selection import train_test_split\n",
    "from sklearn.preprocessing import StandardScaler\n",
    "from sklearn.svm import SVR\n",
    "from sklearn.multioutput import MultiOutputRegressor\n",
    "import matplotlib.pyplot as plt\n",
    "import numpy as np\n",
    "from sklearn.metrics import mean_squared_error, mean_absolute_percentage_error\n",
    "import csv\n",
    "import re\n",
    "\n",
    "def read_csv_file(file_path):\n",
    "    # Initialisiere eine leere Liste, um die bereinigten Daten zu speichern\n",
    "    cleaned_data = []\n",
    "\n",
    "    # Lese die CSV-Datei\n",
    "    with open(file_path, 'r') as csvfile:\n",
    "        reader = csv.reader(csvfile, delimiter=';')  # Annahme: Semikolon als Trennzeichen\n",
    "        for row in reader:\n",
    "            # Verbinde die Zeilenelemente mit einem Komma, um das Trennzeichen zu vereinheitlichen\n",
    "            unified_row = ','.join(row)\n",
    "            # Ersetze mehrere aufeinander folgende Kommas durch ein einzelnes Komma\n",
    "            unified_row = re.sub(r',+', ',', unified_row)\n",
    "            # Teile die vereinheitlichte Zeile nach dem Komma auf\n",
    "            split_row = unified_row.split(',')\n",
    "            # Entferne die ersten zwei Parameter\n",
    "            cleaned_row = split_row[1:]\n",
    "            # Füge die bereinigte Zeile der Liste hinzu\n",
    "            cleaned_data.append(cleaned_row)\n",
    "\n",
    "    return cleaned_data\n",
    "\n",
    "# Beispiel: Daten aus \"input.csv\" einlesen\n",
    "\n",
    "data = pd.read_csv(\"initial_data.csv\")\n",
    "cleaned_data = read_csv_file(\"querys_ForcePush.csv\")\n",
    "df_queried = pd.DataFrame(cleaned_data[1:], columns=cleaned_data[0])\n",
    "def add_data(data, queried_data):\n",
    "    # add queried data (without cost) to initial data\n",
    "    print(queried_data.keys())\n",
    "    queried_data = queried_data[queried_data['costs'] == 1]\n",
    "    data = pd.concat([data, queried_data.iloc[:, :13]], axis=0)\n",
    "\n",
    "    # data = data.append(queried_data, ignore_index=True)\n",
    "    return data\n",
    "\n",
    "data = add_data(data, df_queried)\n",
    "data = data.reset_index().astype('Float32')\n",
    "\n",
    "\n",
    "# Teile die Daten in Features (X) und Ziel (y) auf\n",
    "x = data[[\"Engine speed\", \"Engine load\", \"Railpressure\", \"Air supply\", \"Crank angle\", \"Intake pressure\", \"Back pressure\", \"Intake temperature\"]].values\n",
    "y = data[[\"NOx\", \"PM 1\", \"CO2\", \"Pressure cylinder\"]].values\n",
    "\n",
    "# Teile die Daten in Trainings- und Testsets auf\n",
    "X_train, X_test, y_train, y_test = train_test_split(x, y, test_size=0.1, random_state=42)\n",
    "\n",
    "# Standardisiere die Features\n",
    "scaler = StandardScaler()\n",
    "X_train_scaled = scaler.fit_transform(X_train)\n",
    "X_test_scaled = scaler.transform(X_test)\n",
    "\n",
    "# Trainiere ein Support Vector Regressor (SVR)-Modell\n",
    "print(X_train_scaled.shape)\n",
    "svr = SVR(kernel=\"rbf\", C=200, epsilon=0.001) #beste werte waren für mich kernel=\"rbf\" c=200 und epsilon=0.001\n",
    "multi_output_svr = MultiOutputRegressor(svr)\n",
    "multi_output_svr.fit(X_train_scaled, y_train)\n",
    "\n",
    "# Mache Vorhersagen auf dem Testset\n",
    "y_pred = multi_output_svr.predict(X_test_scaled)\n",
    "\n",
    "\n",
    "\n"
   ]
  },
  {
   "cell_type": "code",
   "execution_count": 151,
   "metadata": {},
   "outputs": [
    {
     "data": {
      "image/png": "[encoded data removed]",
      "text/plain": [
       "<Figure size 640x480 with 1 Axes>"
      ]
     },
     "metadata": {},
     "output_type": "display_data"
    }
   ],
   "source": [
    "\n",
    "# Zeige die SVR-Vorhersagen in einem Diagramm\n",
    "plt.xlim(0,500)\n",
    "plt.ylim(0,500)\n",
    "plt.scatter(y_test[:, 0], y_pred[:, 0], color=\"red\", label=\"NOx\")\n",
    "plt.scatter(y_test[:, 1], y_pred[:, 1], color=\"green\", label=\"PM 1\")\n",
    "plt.scatter(y_test[:, 2], y_pred[:, 2], color=\"blue\", label=\"CO2\")\n",
    "plt.scatter(y_test[:, 3], y_pred[:, 3], color=\"purple\", label=\"Pressure cylinder\")\n",
    "plt.xlabel(\"Tatsächlich\")\n",
    "plt.ylabel(\"Vorhergesagt\")\n",
    "plt.title(\"SVR-Vorhersagen\")\n",
    "plt.legend()\n",
    "plt.show()"
   ]
  },
  {
   "cell_type": "code",
   "execution_count": 152,
   "metadata": {},
   "outputs": [
    {
     "name": "stdout",
     "output_type": "stream",
     "text": [
      "normalisiert \t0.023112689556379382\n",
      "normalisiert \t0.17091318885623524\n",
      "normalisiert \t0.003333751798268749\n",
      "normalisiert \t0.010732894998278956\n"
     ]
    },
    {
     "ename": "IndexError",
     "evalue": "index 4 is out of bounds for axis 1 with size 4",
     "output_type": "error",
     "traceback": [
      "\u001b[1;31m---------------------------------------------------------------------------\u001b[0m",
      "\u001b[1;31mIndexError\u001b[0m                                Traceback (most recent call last)",
      "Cell \u001b[1;32mIn[152], line 7\u001b[0m\n\u001b[0;32m      5\u001b[0m mae \u001b[38;5;241m=\u001b[39m np\u001b[38;5;241m.\u001b[39mmean(np\u001b[38;5;241m.\u001b[39mabs(residuen), axis\u001b[38;5;241m=\u001b[39m\u001b[38;5;241m0\u001b[39m)\n\u001b[0;32m      6\u001b[0m \u001b[38;5;28;01mfor\u001b[39;00m i \u001b[38;5;129;01min\u001b[39;00m \u001b[38;5;28mrange\u001b[39m(\u001b[38;5;241m0\u001b[39m,\u001b[38;5;241m5\u001b[39m):\n\u001b[1;32m----> 7\u001b[0m     mse \u001b[38;5;241m=\u001b[39m mean_squared_error(\u001b[43my_test\u001b[49m\u001b[43m[\u001b[49m\u001b[43m:\u001b[49m\u001b[43m,\u001b[49m\u001b[43mi\u001b[49m\u001b[43m]\u001b[49m, y_pred[:,i])\n\u001b[0;32m      8\u001b[0m     \u001b[38;5;66;03m#print(str(i) + \". mse: \" + str(mse))\u001b[39;00m\n\u001b[0;32m      9\u001b[0m     varianz \u001b[38;5;241m=\u001b[39m np\u001b[38;5;241m.\u001b[39mvar(y_test[:,i])\n",
      "\u001b[1;31mIndexError\u001b[0m: index 4 is out of bounds for axis 1 with size 4"
     ]
    }
   ],
   "source": [
    "# Berechne die Abweichung (Residuen) für jedes Ausgabeattribut\n",
    "residuen = y_test - y_pred\n",
    "\n",
    "# Berechne den durchschnittlichen absoluten Fehler für jedes Ausgabeattribut\n",
    "mae = np.mean(np.abs(residuen), axis=0)\n",
    "for i in range(0,4):\n",
    "    mse = mean_squared_error(y_test[:,i], y_pred[:,i])\n",
    "    #print(str(i) + \". mse: \" + str(mse))\n",
    "    varianz = np.var(y_test[:,i])\n",
    "    print(\"normalisiert \\t\" + str(mse/varianz))\n",
    "\n",
    "# Gib die durchschnittlichen absoluten Fehler für jedes Ausgabeattribut aus\n",
    "for i in range(y_test.shape[1]):\n",
    "    print(f\"Durchschnittlicher absoluter Fehler für Ausgabespalte {i+1}: {mae[i]}\")"
   ]
  },
  {
   "cell_type": "code",
   "execution_count": 153,
   "metadata": {},
   "outputs": [
    {
     "name": "stdout",
     "output_type": "stream",
     "text": [
      "23.61836647376785 - 486.60258048992523\n",
      "0.2194143807363822 - 3.974486682927517\n",
      "6.04966949705512 - 102.31418614736029\n",
      "47.205207821663706 - 109.62907618780244\n",
      "-----\n",
      "17.97783851623535 - 703.8246459960938\n",
      "0.15113873779773712 - 5.698707580566406\n",
      "2.8916282653808594 - 163.0805206298828\n",
      "44.9463005065918 - 160.04737854003906\n"
     ]
    }
   ],
   "source": [
    "yo = pd.DataFrame(y_pred)\n",
    "for i in range(0,4):\n",
    "    print(str(y_pred[:,i].min()) + \" - \" +str(y_pred[:,i].max()))\n",
    "print(\"-----\")\n",
    "for i in range(0,4):\n",
    "    print(str(y[:,i].min()) + \" - \" +str(y[:,i].max()))\n"
   ]
  },
  {
   "cell_type": "code",
   "execution_count": 159,
   "metadata": {},
   "outputs": [
    {
     "name": "stdout",
     "output_type": "stream",
     "text": [
      "accuracy = 78.4845140086079\n",
      "accuracy = 58.47301197693467\n",
      "accuracy = 78.41739589094956\n",
      "accuracy = 97.05870844117662\n",
      "sum:87.56636968233123\n"
     ]
    }
   ],
   "source": [
    "mapesum = 0\n",
    "\n",
    "for i in range(0,4):\n",
    "    #mape = sklearn.mean(np.abs((y_test[:,i] - y_pred[:,i])/y_test[:,i])) * 100\n",
    "    mape= mean_absolute_percentage_error(y_test[:,i], y_pred[:,i]) * 100\n",
    "    mapesum = mapesum + mape\n",
    "    print(\"accuracy = \" + str(100-mape))\n",
    "\n",
    "print(\"sum:\" + str(mapesum))\n",
    "#200\n"
   ]
  },
  {
   "cell_type": "code",
   "execution_count": 160,
   "metadata": {},
   "outputs": [
    {
     "name": "stdout",
     "output_type": "stream",
     "text": [
      "(57892, 8)\n",
      "[202.24569915769445, 1.8526473010258544, 60.70156781176446, 92.46880579190285]\n",
      "[2.842170943040401e-14, 4.440892098500626e-16, 0.0, 0.0]\n",
      "[170.29038274765014, 1.9017370684444905, 59.82909906625748, 82.80317947387695]\n",
      "[133.46353806052107, 1.29944648318814, 40.135816557622924, 28.307689588618114]\n",
      "\n",
      "Quotienten von mean und std:\n",
      "\n",
      "[0.84199755 1.02649709 0.98562692 0.89547149]\n",
      "[4.69583078e+15 2.92609335e+15            inf            inf]\n"
     ]
    },
    {
     "name": "stderr",
     "output_type": "stream",
     "text": [
      "C:\\Users\\tlcd8x\\AppData\\Local\\Temp\\ipykernel_26276\\2465260762.py:36: RuntimeWarning: divide by zero encountered in divide\n",
      "  q_std = np.divide(data_std, submission_std)\n"
     ]
    }
   ],
   "source": [
    "data = pd.read_csv(\"initial_data.csv\")\n",
    "submission_data = pd.read_csv(\"submission.csv\")\n",
    "\n",
    "submission_keys = submission_data.keys()\n",
    "data_keys = ['Engine speed', 'Engine load', 'Railpressure', 'Air supply', 'Crank angle', 'Intake pressure', 'Back pressure', 'Intake temperature']\n",
    "\n",
    "for sub_key, data_key in zip(submission_keys, data_keys):\n",
    "    submission_data = submission_data.rename(columns={sub_key:data_key})\n",
    "\n",
    "\n",
    "print(submission_data.shape)\n",
    "\n",
    "\n",
    "submission_results = multi_output_svr.predict(submission_data.values)\n",
    "\n",
    "submission_results = np.transpose(submission_results)\n",
    "submission_mean = []\n",
    "submission_std = []\n",
    "for feature in submission_results:\n",
    "    submission_mean.append(feature.mean())\n",
    "    submission_std.append(feature.std())\n",
    "\n",
    "data_mean = []\n",
    "data_std = []\n",
    "y_t = np.transpose(y)\n",
    "for feature in y_t:\n",
    "    data_mean.append(feature.mean())\n",
    "    data_std.append(feature.std())\n",
    "\n",
    "print(submission_mean)\n",
    "print(submission_std)\n",
    "print(data_mean)\n",
    "print(data_std)\n",
    "\n",
    "q_mean = np.divide(data_mean, submission_mean)\n",
    "q_std = np.divide(data_std, submission_std)\n",
    "\n",
    "print(\"\\nQuotienten von mean und std:\\n\")\n",
    "print(q_mean)\n",
    "print(q_std)\n",
    "\n",
    "\n"
   ]
  }
 ],
 "metadata": {
  "kernelspec": {
   "display_name": ".venv",
   "language": "python",
   "name": "python3"
  },
  "language_info": {
   "codemirror_mode": {
    "name": "ipython",
    "version": 3
   },
   "file_extension": ".py",
   "mimetype": "text/x-python",
   "name": "python",
   "nbconvert_exporter": "python",
   "pygments_lexer": "ipython3",
   "version": "3.12.4"
  }
 },
 "nbformat": 4,
 "nbformat_minor": 2
}
