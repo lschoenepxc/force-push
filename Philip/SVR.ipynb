{
 "cells": [
  {
   "cell_type": "code",
   "execution_count": 7,
   "metadata": {},
   "outputs": [
    {
     "name": "stdout",
     "output_type": "stream",
     "text": [
      "Index(['Engine speed', 'Engine load', 'Railpressure', 'Air supply',\n",
      "       'Crank angle', 'Intake pressure', 'Back pressure', 'Intake temperature',\n",
      "       'NOx', 'PM 1', 'CO2', 'PM 2', 'Pressure cylinder', 'costs'],\n",
      "      dtype='object')\n",
      "(141, 8)\n"
     ]
    }
   ],
   "source": [
    "import math\n",
    "import pandas as pd\n",
    "from sklearn.model_selection import train_test_split\n",
    "from sklearn.preprocessing import StandardScaler\n",
    "from sklearn.svm import SVR\n",
    "from sklearn.multioutput import MultiOutputRegressor\n",
    "import matplotlib.pyplot as plt\n",
    "import numpy as np\n",
    "from sklearn.metrics import mean_squared_error, mean_absolute_percentage_error\n",
    "import csv\n",
    "import re\n",
    "\n",
    "def read_csv_file(file_path):\n",
    "    # Initialisiere eine leere Liste, um die bereinigten Daten zu speichern\n",
    "    cleaned_data = []\n",
    "\n",
    "    # Lese die CSV-Datei\n",
    "    with open(file_path, 'r') as csvfile:\n",
    "        reader = csv.reader(csvfile, delimiter=';')  # Annahme: Semikolon als Trennzeichen\n",
    "        for row in reader:\n",
    "            # Verbinde die Zeilenelemente mit einem Komma, um das Trennzeichen zu vereinheitlichen\n",
    "            unified_row = ','.join(row)\n",
    "            # Ersetze mehrere aufeinander folgende Kommas durch ein einzelnes Komma\n",
    "            unified_row = re.sub(r',+', ',', unified_row)\n",
    "            # Teile die vereinheitlichte Zeile nach dem Komma auf\n",
    "            split_row = unified_row.split(',')\n",
    "            # Entferne die ersten zwei Parameter\n",
    "            cleaned_row = split_row[1:]\n",
    "            # Füge die bereinigte Zeile der Liste hinzu\n",
    "            cleaned_data.append(cleaned_row)\n",
    "\n",
    "    return cleaned_data\n",
    "\n",
    "# Beispiel: Daten aus \"input.csv\" einlesen\n",
    "\n",
    "data = pd.read_csv(\"initial_data.csv\")\n",
    "cleaned_data = read_csv_file(\"querys_ForcePush.csv\")\n",
    "df_queried = pd.DataFrame(cleaned_data[1:], columns=cleaned_data[0])\n",
    "def add_data(data, queried_data):\n",
    "    # add queried data (without cost) to initial data\n",
    "    print(queried_data.keys())\n",
    "    queried_data = queried_data[queried_data['costs'] == 1]\n",
    "    data = pd.concat([data, queried_data.iloc[:, :13]], axis=0)\n",
    "\n",
    "    # data = data.append(queried_data, ignore_index=True)\n",
    "    return data\n",
    "\n",
    "data = add_data(data, df_queried)\n",
    "data = data.reset_index().astype('Float32')\n",
    "\n",
    "\n",
    "# Teile die Daten in Features (X) und Ziel (y) auf\n",
    "x = data[[\"Engine speed\", \"Engine load\", \"Railpressure\", \"Air supply\", \"Crank angle\", \"Intake pressure\", \"Back pressure\", \"Intake temperature\"]].values\n",
    "y = data[[\"NOx\", \"PM 1\", \"CO2\", \"PM 2\", \"Pressure cylinder\"]].values\n",
    "\n",
    "# Teile die Daten in Trainings- und Testsets auf\n",
    "X_train, X_test, y_train, y_test = train_test_split(x, y, test_size=0.1, random_state=42)\n",
    "\n",
    "# Standardisiere die Features\n",
    "scaler = StandardScaler()\n",
    "X_train_scaled = scaler.fit_transform(X_train)\n",
    "X_test_scaled = scaler.transform(X_test)\n",
    "\n",
    "# Trainiere ein Support Vector Regressor (SVR)-Modell\n",
    "print(X_train_scaled.shape)\n",
    "svr = SVR(kernel=\"linear\", C=1, epsilon=0.1)\n",
    "multi_output_svr = MultiOutputRegressor(svr)\n",
    "multi_output_svr.fit(X_train, y_train)\n",
    "\n",
    "# Mache Vorhersagen auf dem Testset\n",
    "y_pred = multi_output_svr.predict(X_test_scaled)\n",
    "\n",
    "\n",
    "\n"
   ]
  },
  {
   "cell_type": "code",
   "execution_count": 8,
   "metadata": {},
   "outputs": [
    {
     "data": {
      "image/png": "[encoded data removed]",
      "text/plain": [
       "<Figure size 640x480 with 1 Axes>"
      ]
     },
     "metadata": {},
     "output_type": "display_data"
    }
   ],
   "source": [
    "\n",
    "# Zeige die SVR-Vorhersagen in einem Diagramm\n",
    "plt.xlim(0,500)\n",
    "plt.ylim(0,500)\n",
    "plt.scatter(y_test[:, 0], y_pred[:, 0], color=\"red\", label=\"NOx\")\n",
    "plt.scatter(y_test[:, 1], y_pred[:, 1], color=\"green\", label=\"PM 1\")\n",
    "plt.scatter(y_test[:, 2], y_pred[:, 2], color=\"blue\", label=\"CO2\")\n",
    "plt.scatter(y_test[:, 3], y_pred[:, 3], color=\"orange\", label=\"PM 2\")\n",
    "plt.scatter(y_test[:, 4], y_pred[:, 4], color=\"purple\", label=\"Pressure cylinder\")\n",
    "plt.xlabel(\"Tatsächlich\")\n",
    "plt.ylabel(\"Vorhergesagt\")\n",
    "plt.title(\"SVR-Vorhersagen\")\n",
    "plt.legend()\n",
    "plt.show()"
   ]
  },
  {
   "cell_type": "code",
   "execution_count": 9,
   "metadata": {},
   "outputs": [
    {
     "name": "stdout",
     "output_type": "stream",
     "text": [
      "normalisiert \t1.1459241797026263\n",
      "normalisiert \t38.09332999771429\n",
      "normalisiert \t8.00726061935612\n",
      "normalisiert \t1.0665535672882618\n",
      "normalisiert \t3.8278994496029504\n",
      "Durchschnittlicher absoluter Fehler für Ausgabespalte 1: 191.85610114898688\n",
      "Durchschnittlicher absoluter Fehler für Ausgabespalte 2: 9.938758215931207\n",
      "Durchschnittlicher absoluter Fehler für Ausgabespalte 3: 123.27575123729875\n",
      "Durchschnittlicher absoluter Fehler für Ausgabespalte 4: 4200.246082084066\n",
      "Durchschnittlicher absoluter Fehler für Ausgabespalte 5: 62.91342726622967\n"
     ]
    }
   ],
   "source": [
    "# Berechne die Abweichung (Residuen) für jedes Ausgabeattribut\n",
    "residuen = y_test - y_pred\n",
    "\n",
    "# Berechne den durchschnittlichen absoluten Fehler für jedes Ausgabeattribut\n",
    "mae = np.mean(np.abs(residuen), axis=0)\n",
    "for i in range(0,5):\n",
    "    mse = mean_squared_error(y_test[:,i], y_pred[:,i])\n",
    "    #print(str(i) + \". mse: \" + str(mse))\n",
    "    varianz = np.var(y_test[:,i])\n",
    "    print(\"normalisiert \\t\" + str(mse/varianz))\n",
    "\n",
    "# Gib die durchschnittlichen absoluten Fehler für jedes Ausgabeattribut aus\n",
    "for i in range(y_test.shape[1]):\n",
    "    print(f\"Durchschnittlicher absoluter Fehler für Ausgabespalte {i+1}: {mae[i]}\")"
   ]
  },
  {
   "cell_type": "code",
   "execution_count": 10,
   "metadata": {},
   "outputs": [
    {
     "name": "stdout",
     "output_type": "stream",
     "text": [
      "163.07445151005834 - 186.14157010327483\n",
      "-8.167097901690104 - -7.638930544889481\n",
      "-61.60383817800823 - -57.13330143468113\n",
      "8.622143099238842 - 9.468785531267445\n",
      "33.530846398186505 - 37.408337791092045\n",
      "-----\n",
      "15.851380348205566 - 1347.027099609375\n",
      "0.1314121037721634 - 37.41849899291992\n",
      "2.8916282653808594 - 163.0805206298828\n",
      "0.0009764843271113932 - 67145.0\n",
      "43.95541000366211 - 168.84547424316406\n"
     ]
    }
   ],
   "source": [
    "yo = pd.DataFrame(y_pred)\n",
    "for i in range(0,5):\n",
    "    print(str(y_pred[:,i].min()) + \" - \" +str(y_pred[:,i].max()))\n",
    "print(\"-----\")\n",
    "for i in range(0,5):\n",
    "    print(str(y[:,i].min()) + \" - \" +str(y[:,i].max()))\n"
   ]
  },
  {
   "cell_type": "code",
   "execution_count": 11,
   "metadata": {},
   "outputs": [
    {
     "name": "stdout",
     "output_type": "stream",
     "text": [
      "143.79566362009726\n",
      "888.2798810803549\n",
      "315.1064768038559\n",
      "964.7807523240692\n",
      "57.59983937628845\n"
     ]
    }
   ],
   "source": [
    "for i in range(0,5):\n",
    "    #mape = sklearn.mean(np.abs((y_test[:,i] - y_pred[:,i])/y_test[:,i])) * 100\n",
    "    mape= mean_absolute_percentage_error(y_test[:,i], y_pred[:,i]) * 100\n",
    "    print(mape)\n"
   ]
  },
  {
   "cell_type": "code",
   "execution_count": 12,
   "metadata": {},
   "outputs": [
    {
     "name": "stdout",
     "output_type": "stream",
     "text": [
      "(57892, 8)\n",
      "[226.82510875088195, 0.8126433817923715, 51.93750863543324, 2.6040563853818863, 110.11609555059434]\n",
      "[137.27770721415462, 4.000555905096562, 33.76661700244551, 3.5646475868605725, 25.84024355075858]\n",
      "[224.5001825405534, 2.8244946435758265, 59.6247462983344, 662.9760147131639, 94.68207732279589]\n",
      "[215.20052498797537, 4.722424094561472, 39.60092439134057, 5668.017382597124, 31.8604239433137]\n",
      "\n",
      "Quotienten von mean und std:\n",
      "\n",
      "[  0.98975014   3.47568775   1.14800936 254.59357118   0.85983867]\n",
      "[1.56762907e+00 1.18044197e+00 1.17278330e+00 1.59006388e+03\n",
      " 1.23297692e+00]\n"
     ]
    }
   ],
   "source": [
    "data = pd.read_csv(\"initial_data.csv\")\n",
    "submission_data = pd.read_csv(\"submission.csv\")\n",
    "\n",
    "submission_keys = submission_data.keys()\n",
    "data_keys = ['Engine speed', 'Engine load', 'Railpressure', 'Air supply', 'Crank angle', 'Intake pressure', 'Back pressure', 'Intake temperature']\n",
    "\n",
    "for sub_key, data_key in zip(submission_keys, data_keys):\n",
    "    submission_data = submission_data.rename(columns={sub_key:data_key})\n",
    "\n",
    "\n",
    "print(submission_data.shape)\n",
    "\n",
    "\n",
    "submission_results = multi_output_svr.predict(submission_data.values)\n",
    "\n",
    "submission_results = np.transpose(submission_results)\n",
    "submission_mean = []\n",
    "submission_std = []\n",
    "for feature in submission_results:\n",
    "    submission_mean.append(feature.mean())\n",
    "    submission_std.append(feature.std())\n",
    "\n",
    "data_mean = []\n",
    "data_std = []\n",
    "y_t = np.transpose(y)\n",
    "for feature in y_t:\n",
    "    data_mean.append(feature.mean())\n",
    "    data_std.append(feature.std())\n",
    "\n",
    "print(submission_mean)\n",
    "print(submission_std)\n",
    "print(data_mean)\n",
    "print(data_std)\n",
    "\n",
    "q_mean = np.divide(data_mean, submission_mean)\n",
    "q_std = np.divide(data_std, submission_std)\n",
    "\n",
    "print(\"\\nQuotienten von mean und std:\\n\")\n",
    "print(q_mean)\n",
    "print(q_std)\n",
    "\n",
    "\n"
   ]
  }
 ],
 "metadata": {
  "kernelspec": {
   "display_name": ".venv",
   "language": "python",
   "name": "python3"
  },
  "language_info": {
   "codemirror_mode": {
    "name": "ipython",
    "version": 3
   },
   "file_extension": ".py",
   "mimetype": "text/x-python",
   "name": "python",
   "nbconvert_exporter": "python",
   "pygments_lexer": "ipython3",
   "version": "3.12.4"
  }
 },
 "nbformat": 4,
 "nbformat_minor": 2
}
