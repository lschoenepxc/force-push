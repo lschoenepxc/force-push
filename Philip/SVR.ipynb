{
 "cells": [
  {
   "cell_type": "code",
   "execution_count": 48,
   "metadata": {},
   "outputs": [
    {
     "name": "stdout",
     "output_type": "stream",
     "text": [
      "(90, 8)\n"
     ]
    }
   ],
   "source": [
    "import math\n",
    "import pandas as pd\n",
    "from sklearn.model_selection import train_test_split\n",
    "from sklearn.preprocessing import StandardScaler\n",
    "from sklearn.svm import SVR\n",
    "from sklearn.multioutput import MultiOutputRegressor\n",
    "import matplotlib.pyplot as plt\n",
    "import numpy as np\n",
    "from sklearn.metrics import mean_squared_error, mean_absolute_percentage_error\n",
    "\n",
    "\n",
    "\n",
    "\n",
    "# Lade die CSV-Datei (angenommen, die Datei heißt \"data.csv\")\n",
    "data = pd.read_csv(\"initial_data.csv\")\n",
    "\n",
    "# Teile die Daten in Features (X) und Ziel (y) auf\n",
    "x = data[[\"Engine speed\", \"Engine load\", \"Railpressure\", \"Air supply\", \"Crank angle\", \"Intake pressure\", \"Back pressure\", \"Intake temperature\"]].values\n",
    "y = data[[\"NOx\", \"PM 1\", \"CO2\", \"PM 2\", \"Pressure cylinder\"]].values\n",
    "\n",
    "# Teile die Daten in Trainings- und Testsets auf\n",
    "X_train, X_test, y_train, y_test = train_test_split(x, y, test_size=0.1, random_state=42)\n",
    "\n",
    "# Standardisiere die Features\n",
    "scaler = StandardScaler()\n",
    "X_train_scaled = scaler.fit_transform(X_train)\n",
    "X_test_scaled = scaler.transform(X_test)\n",
    "\n",
    "# Trainiere ein Support Vector Regressor (SVR)-Modell\n",
    "print(X_train_scaled.shape)\n",
    "svr = SVR(kernel=\"linear\", C=1, epsilon=0.1)\n",
    "multi_output_svr = MultiOutputRegressor(svr)\n",
    "multi_output_svr.fit(X_train, y_train)\n",
    "\n",
    "# Mache Vorhersagen auf dem Testset\n",
    "y_pred = multi_output_svr.predict(X_test_scaled)\n",
    "\n",
    "\n",
    "\n"
   ]
  },
  {
   "cell_type": "code",
   "execution_count": 49,
   "metadata": {},
   "outputs": [
    {
     "data": {
      "image/png": "[encoded data removed]",
      "text/plain": [
       "<Figure size 640x480 with 1 Axes>"
      ]
     },
     "metadata": {},
     "output_type": "display_data"
    }
   ],
   "source": [
    "\n",
    "# Zeige die SVR-Vorhersagen in einem Diagramm\n",
    "plt.xlim(0,500)\n",
    "plt.ylim(0,500)\n",
    "plt.scatter(y_test[:, 0], y_pred[:, 0], color=\"red\", label=\"NOx\")\n",
    "plt.scatter(y_test[:, 1], y_pred[:, 1], color=\"green\", label=\"PM 1\")\n",
    "plt.scatter(y_test[:, 2], y_pred[:, 2], color=\"blue\", label=\"CO2\")\n",
    "plt.scatter(y_test[:, 3], y_pred[:, 3], color=\"orange\", label=\"PM 2\")\n",
    "plt.scatter(y_test[:, 4], y_pred[:, 4], color=\"purple\", label=\"Pressure cylinder\")\n",
    "plt.xlabel(\"Tatsächlich\")\n",
    "plt.ylabel(\"Vorhergesagt\")\n",
    "plt.title(\"SVR-Vorhersagen\")\n",
    "plt.legend()\n",
    "plt.show()"
   ]
  },
  {
   "cell_type": "code",
   "execution_count": 50,
   "metadata": {},
   "outputs": [
    {
     "name": "stdout",
     "output_type": "stream",
     "text": [
      "normalisiert \t0.9609691204413443\n",
      "normalisiert \t1.7355522258762623\n",
      "normalisiert \t4.111843153988227\n",
      "normalisiert \t2.87074121729245\n",
      "normalisiert \t3.0822124530882813\n",
      "Durchschnittlicher absoluter Fehler für Ausgabespalte 1: 80.51595998273602\n",
      "Durchschnittlicher absoluter Fehler für Ausgabespalte 2: 1.6316308002015378\n",
      "Durchschnittlicher absoluter Fehler für Ausgabespalte 3: 55.403409462973286\n",
      "Durchschnittlicher absoluter Fehler für Ausgabespalte 4: 7.705979165004147\n",
      "Durchschnittlicher absoluter Fehler für Ausgabespalte 5: 29.1931568818156\n"
     ]
    }
   ],
   "source": [
    "# Berechne die Abweichung (Residuen) für jedes Ausgabeattribut\n",
    "residuen = y_test - y_pred\n",
    "\n",
    "# Berechne den durchschnittlichen absoluten Fehler für jedes Ausgabeattribut\n",
    "mae = np.mean(np.abs(residuen), axis=0)\n",
    "for i in range(0,5):\n",
    "    mse = mean_squared_error(y_test[:,i], y_pred[:,i])\n",
    "    #print(str(i) + \". mse: \" + str(mse))\n",
    "    varianz = np.var(y_test[:,i])\n",
    "    print(\"normalisiert \\t\" + str(mse/varianz))\n",
    "\n",
    "# Gib die durchschnittlichen absoluten Fehler für jedes Ausgabeattribut aus\n",
    "for i in range(y_test.shape[1]):\n",
    "    print(f\"Durchschnittlicher absoluter Fehler für Ausgabespalte {i+1}: {mae[i]}\")"
   ]
  },
  {
   "cell_type": "code",
   "execution_count": 51,
   "metadata": {},
   "outputs": [
    {
     "name": "stdout",
     "output_type": "stream",
     "text": [
      "98.22990869471116 - 112.74557649862751\n",
      "3.035112737283797 - 3.5933812409693506\n",
      "-14.970128892131266 - -13.028225963503951\n",
      "13.64501891615627 - 14.657087834436064\n",
      "35.42587798781938 - 38.52047541731739\n",
      "-----\n",
      "17.977837673560735 - 703.8246607171793\n",
      "0.1511387322084335 - 5.698707405990675\n",
      "2.8916283610802 - 163.08052044212317\n",
      "0.7220990913233775 - 16.283255006155805\n",
      "44.94630187431548 - 160.04737531670222\n"
     ]
    }
   ],
   "source": [
    "yo = pd.DataFrame(y_pred)\n",
    "for i in range(0,5):\n",
    "    print(str(y_pred[:,i].min()) + \" - \" +str(y_pred[:,i].max()))\n",
    "print(\"-----\")\n",
    "for i in range(0,5):\n",
    "    print(str(y[:,i].min()) + \" - \" +str(y[:,i].max()))\n"
   ]
  },
  {
   "cell_type": "code",
   "execution_count": 52,
   "metadata": {},
   "outputs": [
    {
     "name": "stdout",
     "output_type": "stream",
     "text": [
      "131.8568595619145\n",
      "496.37528574436203\n",
      "224.5684579696115\n",
      "318.5434557878063\n",
      "39.45067813093432\n"
     ]
    }
   ],
   "source": [
    "for i in range(0,5):\n",
    "    #mape = sklearn.mean(np.abs((y_test[:,i] - y_pred[:,i])/y_test[:,i])) * 100\n",
    "    mape= mean_absolute_percentage_error(y_test[:,i], y_pred[:,i]) * 100\n",
    "    print(mape)\n"
   ]
  },
  {
   "cell_type": "code",
   "execution_count": 53,
   "metadata": {},
   "outputs": [
    {
     "name": "stdout",
     "output_type": "stream",
     "text": [
      "(57892, 8)\n",
      "[262.0146557028242, 6.136146838402113, 50.85176924979589, 12.731565336996324, 123.76825448268326]\n",
      "[192.44373850917654, 4.254938088042669, 71.44473727286345, 10.281961816381541, 58.68314028269838]\n",
      "[170.29038340772263, 1.9017370773289528, 59.82909918594736, 5.450735423650851, 82.80317930585645]\n",
      "[133.46353940994078, 1.2994464881311643, 40.13581656586497, 3.044101809402742, 28.307689406862803]\n"
     ]
    }
   ],
   "source": [
    "data = pd.read_csv(\"initial_data.csv\")\n",
    "submission_data = pd.read_csv(\"submission.csv\")\n",
    "\n",
    "submission_keys = submission_data.keys()\n",
    "data_keys = ['Engine speed', 'Engine load', 'Railpressure', 'Air supply', 'Crank angle', 'Intake pressure', 'Back pressure', 'Intake temperature']\n",
    "\n",
    "for sub_key, data_key in zip(submission_keys, data_keys):\n",
    "    submission_data = submission_data.rename(columns={sub_key:data_key})\n",
    "\n",
    "\n",
    "print(submission_data.shape)\n",
    "\n",
    "\n",
    "submission_results = multi_output_svr.predict(submission_data.values)\n",
    "\n",
    "submission_results = np.transpose(submission_results)\n",
    "submission_mean = []\n",
    "submission_std = []\n",
    "for feature in submission_results:\n",
    "    submission_mean.append(feature.mean())\n",
    "    submission_std.append(feature.std())\n",
    "\n",
    "data_mean = []\n",
    "data_std = []\n",
    "y_t = np.transpose(y)\n",
    "for feature in y_t:\n",
    "    data_mean.append(feature.mean())\n",
    "    data_std.append(feature.std())\n",
    "\n",
    "print(submission_mean)\n",
    "print(submission_std)\n",
    "print(data_mean)\n",
    "print(data_std)\n",
    "\n",
    "q_mean = np.divide(data_mean, submission_mean)\n",
    "q_std = np.divide(data_std, submission_std)\n",
    "\n",
    "print(\"\\nQuotienten von mean und std:\\n\")\n",
    "print(q_mean)\n",
    "print(q_std)\n",
    "\n",
    "\n"
   ]
  }
 ],
 "metadata": {
  "kernelspec": {
   "display_name": ".venv",
   "language": "python",
   "name": "python3"
  },
  "language_info": {
   "codemirror_mode": {
    "name": "ipython",
    "version": 3
   },
   "file_extension": ".py",
   "mimetype": "text/x-python",
   "name": "python",
   "nbconvert_exporter": "python",
   "pygments_lexer": "ipython3",
   "version": "3.12.4"
  }
 },
 "nbformat": 4,
 "nbformat_minor": 2
}
