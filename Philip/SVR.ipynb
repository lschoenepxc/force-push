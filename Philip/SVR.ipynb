{
 "cells": [
  {
   "cell_type": "code",
   "execution_count": 1,
   "metadata": {},
   "outputs": [
    {
     "name": "stdout",
     "output_type": "stream",
     "text": [
      "Index(['Engine speed', 'Engine load', 'Railpressure', 'Air supply',\n",
      "       'Crank angle', 'Intake pressure', 'Back pressure', 'Intake temperature',\n",
      "       'NOx', 'PM 1', 'CO2', 'PM 2', 'Pressure cylinder', 'costs'],\n",
      "      dtype='object')\n",
      "(90, 8)\n"
     ]
    },
    {
     "name": "stderr",
     "output_type": "stream",
     "text": [
      "C:\\Users\\boeke\\AppData\\Local\\Temp\\ipykernel_12676\\1608801139.py:43: FutureWarning: The behavior of DataFrame concatenation with empty or all-NA entries is deprecated. In a future version, this will no longer exclude empty or all-NA columns when determining the result dtypes. To retain the old behavior, exclude the relevant entries before the concat operation.\n",
      "  data = pd.concat([data, queried_data.iloc[:, :13]], axis=0)\n"
     ]
    }
   ],
   "source": [
    "import math\n",
    "import pandas as pd\n",
    "from sklearn.model_selection import train_test_split\n",
    "from sklearn.preprocessing import StandardScaler\n",
    "from sklearn.svm import SVR\n",
    "from sklearn.multioutput import MultiOutputRegressor\n",
    "import matplotlib.pyplot as plt\n",
    "import numpy as np\n",
    "from sklearn.metrics import mean_squared_error, mean_absolute_percentage_error\n",
    "import csv\n",
    "import re\n",
    "\n",
    "def read_csv_file(file_path):\n",
    "    # Initialisiere eine leere Liste, um die bereinigten Daten zu speichern\n",
    "    cleaned_data = []\n",
    "\n",
    "    # Lese die CSV-Datei\n",
    "    with open(file_path, 'r') as csvfile:\n",
    "        reader = csv.reader(csvfile, delimiter=';')  # Annahme: Semikolon als Trennzeichen\n",
    "        for row in reader:\n",
    "            # Verbinde die Zeilenelemente mit einem Komma, um das Trennzeichen zu vereinheitlichen\n",
    "            unified_row = ','.join(row)\n",
    "            # Ersetze mehrere aufeinander folgende Kommas durch ein einzelnes Komma\n",
    "            unified_row = re.sub(r',+', ',', unified_row)\n",
    "            # Teile die vereinheitlichte Zeile nach dem Komma auf\n",
    "            split_row = unified_row.split(',')\n",
    "            # Entferne die ersten zwei Parameter\n",
    "            cleaned_row = split_row[1:]\n",
    "            # Füge die bereinigte Zeile der Liste hinzu\n",
    "            cleaned_data.append(cleaned_row)\n",
    "\n",
    "    return cleaned_data\n",
    "\n",
    "# Beispiel: Daten aus \"input.csv\" einlesen\n",
    "\n",
    "data = pd.read_csv(\"initial_data.csv\")\n",
    "cleaned_data = read_csv_file(\"querys_ForcePush.csv\")\n",
    "df_queried = pd.DataFrame(cleaned_data[1:], columns=cleaned_data[0])\n",
    "def add_data(data, queried_data):\n",
    "    # add queried data (without cost) to initial data\n",
    "    print(queried_data.keys())\n",
    "    queried_data = queried_data[queried_data['costs'] == 1]\n",
    "    data = pd.concat([data, queried_data.iloc[:, :13]], axis=0)\n",
    "\n",
    "    # data = data.append(queried_data, ignore_index=True)\n",
    "    return data\n",
    "\n",
    "data = add_data(data, df_queried)\n",
    "data = data.reset_index().astype('Float32')\n",
    "\n",
    "\n",
    "# Teile die Daten in Features (X) und Ziel (y) auf\n",
    "x = data[[\"Engine speed\", \"Engine load\", \"Railpressure\", \"Air supply\", \"Crank angle\", \"Intake pressure\", \"Back pressure\", \"Intake temperature\"]].values\n",
    "y = data[[\"NOx\", \"PM 1\", \"CO2\", \"PM 2\", \"Pressure cylinder\"]].values\n",
    "\n",
    "# Teile die Daten in Trainings- und Testsets auf\n",
    "X_train, X_test, y_train, y_test = train_test_split(x, y, test_size=0.1, random_state=42)\n",
    "\n",
    "# Standardisiere die Features\n",
    "scaler = StandardScaler()\n",
    "X_train_scaled = scaler.fit_transform(X_train)\n",
    "X_test_scaled = scaler.transform(X_test)\n",
    "\n",
    "# Trainiere ein Support Vector Regressor (SVR)-Modell\n",
    "print(X_train_scaled.shape)\n",
    "svr = SVR(kernel=\"linear\", C=1, epsilon=0.1)\n",
    "multi_output_svr = MultiOutputRegressor(svr)\n",
    "multi_output_svr.fit(X_train, y_train)\n",
    "\n",
    "# Mache Vorhersagen auf dem Testset\n",
    "y_pred = multi_output_svr.predict(X_test_scaled)\n",
    "\n",
    "\n",
    "\n"
   ]
  },
  {
   "cell_type": "code",
   "execution_count": 2,
   "metadata": {},
   "outputs": [
    {
     "data": {
      "image/png": "[encoded data removed]",
      "text/plain": [
       "<Figure size 640x480 with 1 Axes>"
      ]
     },
     "metadata": {},
     "output_type": "display_data"
    }
   ],
   "source": [
    "\n",
    "# Zeige die SVR-Vorhersagen in einem Diagramm\n",
    "plt.xlim(0,500)\n",
    "plt.ylim(0,500)\n",
    "plt.scatter(y_test[:, 0], y_pred[:, 0], color=\"red\", label=\"NOx\")\n",
    "plt.scatter(y_test[:, 1], y_pred[:, 1], color=\"green\", label=\"PM 1\")\n",
    "plt.scatter(y_test[:, 2], y_pred[:, 2], color=\"blue\", label=\"CO2\")\n",
    "plt.scatter(y_test[:, 3], y_pred[:, 3], color=\"orange\", label=\"PM 2\")\n",
    "plt.scatter(y_test[:, 4], y_pred[:, 4], color=\"purple\", label=\"Pressure cylinder\")\n",
    "plt.xlabel(\"Tatsächlich\")\n",
    "plt.ylabel(\"Vorhergesagt\")\n",
    "plt.title(\"SVR-Vorhersagen\")\n",
    "plt.legend()\n",
    "plt.show()"
   ]
  },
  {
   "cell_type": "code",
   "execution_count": 3,
   "metadata": {},
   "outputs": [
    {
     "name": "stdout",
     "output_type": "stream",
     "text": [
      "normalisiert \t0.9678566755543345\n",
      "normalisiert \t29.208658735408665\n",
      "normalisiert \t4.603486649239752\n",
      "normalisiert \t0.9897597902420485\n",
      "normalisiert \t2.693010680771462\n",
      "Durchschnittlicher absoluter Fehler für Ausgabespalte 1: 81.93642969459583\n",
      "Durchschnittlicher absoluter Fehler für Ausgabespalte 2: 8.09241254439647\n",
      "Durchschnittlicher absoluter Fehler für Ausgabespalte 3: 59.481634429718994\n",
      "Durchschnittlicher absoluter Fehler für Ausgabespalte 4: 4.420443375656602\n",
      "Durchschnittlicher absoluter Fehler für Ausgabespalte 5: 26.00551767354212\n"
     ]
    }
   ],
   "source": [
    "# Berechne die Abweichung (Residuen) für jedes Ausgabeattribut\n",
    "residuen = y_test - y_pred\n",
    "\n",
    "# Berechne den durchschnittlichen absoluten Fehler für jedes Ausgabeattribut\n",
    "mae = np.mean(np.abs(residuen), axis=0)\n",
    "for i in range(0,5):\n",
    "    mse = mean_squared_error(y_test[:,i], y_pred[:,i])\n",
    "    #print(str(i) + \". mse: \" + str(mse))\n",
    "    varianz = np.var(y_test[:,i])\n",
    "    print(\"normalisiert \\t\" + str(mse/varianz))\n",
    "\n",
    "# Gib die durchschnittlichen absoluten Fehler für jedes Ausgabeattribut aus\n",
    "for i in range(y_test.shape[1]):\n",
    "    print(f\"Durchschnittlicher absoluter Fehler für Ausgabespalte {i+1}: {mae[i]}\")"
   ]
  },
  {
   "cell_type": "code",
   "execution_count": 4,
   "metadata": {},
   "outputs": [
    {
     "name": "stdout",
     "output_type": "stream",
     "text": [
      "101.04276711375805 - 113.5658877344048\n",
      "9.629319404305118 - 10.486684412467707\n",
      "-19.46557999536183 - -17.077863670473086\n",
      "5.645993950098291 - 7.130881024255463\n",
      "37.8327579582738 - 42.46107551088223\n",
      "-----\n",
      "17.97783851623535 - 703.8246459960938\n",
      "0.15113873779773712 - 5.698707580566406\n",
      "2.8916282653808594 - 163.0805206298828\n",
      "0.7220990657806396 - 16.283254623413086\n",
      "44.9463005065918 - 160.04737854003906\n"
     ]
    }
   ],
   "source": [
    "yo = pd.DataFrame(y_pred)\n",
    "for i in range(0,5):\n",
    "    print(str(y_pred[:,i].min()) + \" - \" +str(y_pred[:,i].max()))\n",
    "print(\"-----\")\n",
    "for i in range(0,5):\n",
    "    print(str(y[:,i].min()) + \" - \" +str(y[:,i].max()))\n"
   ]
  },
  {
   "cell_type": "code",
   "execution_count": 5,
   "metadata": {},
   "outputs": [
    {
     "name": "stdout",
     "output_type": "stream",
     "text": [
      "136.6674201455276\n",
      "1712.0883294984726\n",
      "257.82077506518834\n",
      "121.96193233158633\n",
      "34.08091469705349\n"
     ]
    }
   ],
   "source": [
    "for i in range(0,5):\n",
    "    #mape = sklearn.mean(np.abs((y_test[:,i] - y_pred[:,i])/y_test[:,i])) * 100\n",
    "    mape= mean_absolute_percentage_error(y_test[:,i], y_pred[:,i]) * 100\n",
    "    print(mape)\n"
   ]
  },
  {
   "cell_type": "code",
   "execution_count": 6,
   "metadata": {},
   "outputs": [
    {
     "name": "stdout",
     "output_type": "stream",
     "text": [
      "(57892, 8)\n",
      "[233.97066029397752, -2.4535102964604993, 51.7209257418673, 10.050183116249045, 113.38879781130332]\n",
      "[161.09568627847995, 20.205886606837716, 71.59365523220144, 34.19977579433303, 38.8519063551437]\n",
      "[170.29038274765014, 1.9017370684444905, 59.82909906625748, 5.4507354098558425, 82.80317947387695]\n",
      "[133.46353806052107, 1.29944648318814, 40.135816557622924, 3.0441017736734306, 28.307689588618114]\n",
      "\n",
      "Quotienten von mean und std:\n",
      "\n",
      "[ 0.72782794 -0.77510866  1.15676775  0.54235185  0.73025891]\n",
      "[0.82847369 0.06431029 0.56060577 0.08900941 0.72860491]\n"
     ]
    }
   ],
   "source": [
    "data = pd.read_csv(\"initial_data.csv\")\n",
    "submission_data = pd.read_csv(\"submission.csv\")\n",
    "\n",
    "submission_keys = submission_data.keys()\n",
    "data_keys = ['Engine speed', 'Engine load', 'Railpressure', 'Air supply', 'Crank angle', 'Intake pressure', 'Back pressure', 'Intake temperature']\n",
    "\n",
    "for sub_key, data_key in zip(submission_keys, data_keys):\n",
    "    submission_data = submission_data.rename(columns={sub_key:data_key})\n",
    "\n",
    "\n",
    "print(submission_data.shape)\n",
    "\n",
    "\n",
    "submission_results = multi_output_svr.predict(submission_data.values)\n",
    "\n",
    "submission_results = np.transpose(submission_results)\n",
    "submission_mean = []\n",
    "submission_std = []\n",
    "for feature in submission_results:\n",
    "    submission_mean.append(feature.mean())\n",
    "    submission_std.append(feature.std())\n",
    "\n",
    "data_mean = []\n",
    "data_std = []\n",
    "y_t = np.transpose(y)\n",
    "for feature in y_t:\n",
    "    data_mean.append(feature.mean())\n",
    "    data_std.append(feature.std())\n",
    "\n",
    "print(submission_mean)\n",
    "print(submission_std)\n",
    "print(data_mean)\n",
    "print(data_std)\n",
    "\n",
    "q_mean = np.divide(data_mean, submission_mean)\n",
    "q_std = np.divide(data_std, submission_std)\n",
    "\n",
    "print(\"\\nQuotienten von mean und std:\\n\")\n",
    "print(q_mean)\n",
    "print(q_std)\n",
    "\n",
    "\n"
   ]
  }
 ],
 "metadata": {
  "kernelspec": {
   "display_name": ".venv",
   "language": "python",
   "name": "python3"
  },
  "language_info": {
   "codemirror_mode": {
    "name": "ipython",
    "version": 3
   },
   "file_extension": ".py",
   "mimetype": "text/x-python",
   "name": "python",
   "nbconvert_exporter": "python",
   "pygments_lexer": "ipython3",
   "version": "3.12.4"
  }
 },
 "nbformat": 4,
 "nbformat_minor": 2
}
