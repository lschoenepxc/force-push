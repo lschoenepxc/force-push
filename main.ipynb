{
 "cells": [
  {
   "cell_type": "markdown",
   "metadata": {},
   "source": [
    "# Start: Analysiere Daten"
   ]
  },
  {
   "cell_type": "code",
   "execution_count": 4,
   "metadata": {},
   "outputs": [],
   "source": [
    "# import initial_data.csv\n",
    "import pandas as pd\n",
    "import numpy as np\n",
    "\n",
    "from feasibility import is_feasible\n",
    "\n",
    "# import data from csv file\n",
    "def import_data():\n",
    "    data = pd.read_csv('initial_data.csv')\n",
    "    return data\n",
    "\n",
    "data = import_data()"
   ]
  },
  {
   "cell_type": "code",
   "execution_count": 20,
   "metadata": {},
   "outputs": [
    {
     "name": "stdout",
     "output_type": "stream",
     "text": [
      "['Engine speed' 'Engine load' 'Railpressure' 'Air supply' 'Crank angle'\n",
      " 'Intake pressure' 'Back pressure' 'Intake temperature' 'NOx' 'PM 1' 'CO2'\n",
      " 'PM 2' 'Pressure cylinder' 'feasible' 'safe']\n",
      "['Engine speed' 'Engine load' 'Railpressure' 'Air supply' 'Crank angle'\n",
      " 'Intake pressure' 'Back pressure' 'Intake temperature']\n",
      "['NOx' 'PM 1' 'CO2' 'PM 2' 'Pressure cylinder']\n"
     ]
    }
   ],
   "source": [
    "# put column names into a list\n",
    "column_names = data.columns.values\n",
    "print(column_names)\n",
    "inputs = column_names[0:8]\n",
    "print(inputs)\n",
    "outputs = column_names[8:13]\n",
    "print(outputs)"
   ]
  },
  {
   "cell_type": "code",
   "execution_count": 25,
   "metadata": {},
   "outputs": [],
   "source": [
    "def get_input_data(row):\n",
    "    x1, x2, x3, x4, x5, x6, x7, x8 = data.iloc[row, 0], data.iloc[row, 1], data.iloc[row, 2], data.iloc[row, 3], data.iloc[row, 4], data.iloc[row, 5], data.iloc[row, 6], data.iloc[row, 7]\n",
    "    return x1, x2, x3, x4, x5, x6, x7, x8\n",
    "\n",
    "def get_output_data(row):\n",
    "    x1, x2, x3, x4, x5 = data.iloc[row, 8], data.iloc[row, 9], data.iloc[row, 10], data.iloc[row, 11], data.iloc[row, 12]\n",
    "    return x1, x2, x3, x4, x5\n",
    "\n",
    "def get_critical_output_data(i):\n",
    "    x1, x2, x3 = data.iloc[i, 9], data.iloc[i, 11], data.iloc[i, 12]\n",
    "    return x1, x2, x3"
   ]
  },
  {
   "cell_type": "code",
   "execution_count": 22,
   "metadata": {},
   "outputs": [],
   "source": [
    "# show if data row is feasible via the first 8 columns and the function is_feasible\n",
    "feasible = []\n",
    "for i in range(len(data)):\n",
    "    x1, x2, x3, x4, x5, x6, x7, x8 = get_input_data(i)\n",
    "    # print(x1, x2, x3, x4, x5, x6, x7, x8)\n",
    "    feasible.append(is_feasible(x1, x2, x3, x4, x5, x6, x7, x8))\n",
    "data['feasible'] = feasible"
   ]
  },
  {
   "cell_type": "code",
   "execution_count": 26,
   "metadata": {},
   "outputs": [],
   "source": [
    "# Check if outputs are in safe range\n",
    "# PM 1 < 6, PM 2 < 16, Pressure cylinder < 160\n",
    "safe = []\n",
    "for i in range(len(data)):\n",
    "    x9, x10, x11 = get_critical_output_data(i)\n",
    "    if x9 < 6 and x10 < 16 and x11 < 160:\n",
    "        safe.append(True)\n",
    "    else:\n",
    "        safe.append(False)\n",
    "data['safe'] = safe"
   ]
  },
  {
   "cell_type": "code",
   "execution_count": 27,
   "metadata": {},
   "outputs": [
    {
     "name": "stdout",
     "output_type": "stream",
     "text": [
      "    Engine speed  Engine load  Railpressure  Air supply  Crank angle  \\\n",
      "70        1800.0        35.66        1521.7    310.5600         5.69   \n",
      "89        2000.0       139.54        2500.3   1008.3008         3.66   \n",
      "\n",
      "    Intake pressure  Back pressure  Intake temperature         NOx      PM 1  \\\n",
      "70           1123.5         1236.1                60.9   66.869420  4.095885   \n",
      "89           3129.9         3329.4                79.7  328.147428  4.017909   \n",
      "\n",
      "           CO2       PM 2  Pressure cylinder  feasible   safe  \n",
      "70   36.291467  16.283255          60.497930      True  False  \n",
      "89  163.080520   4.692198         160.047375      True  False  \n"
     ]
    }
   ],
   "source": [
    "# show unsafe data (safe = False)\n",
    "unsafe_data = data[data['safe'] == False]\n",
    "print(unsafe_data)"
   ]
  },
  {
   "cell_type": "code",
   "execution_count": null,
   "metadata": {},
   "outputs": [],
   "source": [
    "# predict when to get safe data and when to get unsafe data\n",
    "# PM 1 < 6, PM 2 < 16, Pressure cylinder < 160"
   ]
  }
 ],
 "metadata": {
  "kernelspec": {
   "display_name": ".venv",
   "language": "python",
   "name": "python3"
  },
  "language_info": {
   "codemirror_mode": {
    "name": "ipython",
    "version": 3
   },
   "file_extension": ".py",
   "mimetype": "text/x-python",
   "name": "python",
   "nbconvert_exporter": "python",
   "pygments_lexer": "ipython3",
   "version": "3.12.0"
  }
 },
 "nbformat": 4,
 "nbformat_minor": 2
}
