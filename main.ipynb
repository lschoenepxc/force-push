{
 "cells": [
  {
   "cell_type": "markdown",
   "metadata": {},
   "source": [
    "# Start: Analysiere Daten"
   ]
  },
  {
   "cell_type": "code",
   "execution_count": 58,
   "metadata": {},
   "outputs": [],
   "source": [
    "# import initial_data.csv\n",
    "import pandas as pd\n",
    "import numpy as np\n",
    "\n",
    "from feasibility import is_feasible\n",
    "\n",
    "# import data from csv file\n",
    "def import_data():\n",
    "    data = pd.read_csv('initial_data.csv')\n",
    "    return data\n",
    "\n",
    "data = import_data()"
   ]
  },
  {
   "cell_type": "code",
   "execution_count": 59,
   "metadata": {},
   "outputs": [
    {
     "name": "stdout",
     "output_type": "stream",
     "text": [
      "['Engine speed' 'Engine load' 'Railpressure' 'Air supply' 'Crank angle'\n",
      " 'Intake pressure' 'Back pressure' 'Intake temperature' 'NOx' 'PM 1' 'CO2'\n",
      " 'PM 2' 'Pressure cylinder']\n",
      "['Engine speed' 'Engine load' 'Railpressure' 'Air supply' 'Crank angle'\n",
      " 'Intake pressure' 'Back pressure' 'Intake temperature']\n",
      "['NOx' 'PM 1' 'CO2' 'PM 2' 'Pressure cylinder']\n"
     ]
    }
   ],
   "source": [
    "# put column names into a list\n",
    "column_names = data.columns.values\n",
    "print(column_names)\n",
    "inputs = column_names[0:8]\n",
    "print(inputs)\n",
    "outputs = column_names[8:13]\n",
    "print(outputs)"
   ]
  },
  {
   "cell_type": "code",
   "execution_count": 60,
   "metadata": {},
   "outputs": [],
   "source": [
    "def get_input_data(row):\n",
    "    x1, x2, x3, x4, x5, x6, x7, x8 = data.iloc[row, 0], data.iloc[row, 1], data.iloc[row, 2], data.iloc[row, 3], data.iloc[row, 4], data.iloc[row, 5], data.iloc[row, 6], data.iloc[row, 7]\n",
    "    return x1, x2, x3, x4, x5, x6, x7, x8\n",
    "\n",
    "def get_output_data(row):\n",
    "    x1, x2, x3, x4, x5 = data.iloc[row, 8], data.iloc[row, 9], data.iloc[row, 10], data.iloc[row, 11], data.iloc[row, 12]\n",
    "    return x1, x2, x3, x4, x5\n",
    "\n",
    "def get_critical_output_data(i):\n",
    "    x1, x2, x3 = data.iloc[i, 9], data.iloc[i, 11], data.iloc[i, 12]\n",
    "    return x1, x2, x3"
   ]
  },
  {
   "cell_type": "code",
   "execution_count": 61,
   "metadata": {},
   "outputs": [],
   "source": [
    "# show if data row is feasible via the first 8 columns and the function is_feasible\n",
    "feasible = []\n",
    "for i in range(len(data)):\n",
    "    x1, x2, x3, x4, x5, x6, x7, x8 = get_input_data(i)\n",
    "    # print(x1, x2, x3, x4, x5, x6, x7, x8)\n",
    "    feasible.append(is_feasible(x1, x2, x3, x4, x5, x6, x7, x8))\n",
    "data['feasible'] = feasible"
   ]
  },
  {
   "cell_type": "code",
   "execution_count": 62,
   "metadata": {},
   "outputs": [],
   "source": [
    "# Check if outputs are in safe range\n",
    "# PM 1 < 6, PM 2 < 16, Pressure cylinder < 160\n",
    "\n",
    "def label_safe(data):\n",
    "    safe = []\n",
    "    for i in range(len(data)):\n",
    "        x9, x10, x11 = get_critical_output_data(i)\n",
    "        if x9 < 6 and x10 < 16 and x11 < 160:\n",
    "            safe.append(True)\n",
    "        else:\n",
    "            safe.append(False)\n",
    "    data['safe'] = safe\n",
    "    return data\n",
    "\n",
    "data = label_safe(data)"
   ]
  },
  {
   "cell_type": "code",
   "execution_count": 63,
   "metadata": {},
   "outputs": [
    {
     "name": "stdout",
     "output_type": "stream",
     "text": [
      "12\n"
     ]
    }
   ],
   "source": [
    "unsafe_params = [5, 13, 130]\n",
    "\n",
    "# label broader safe range\n",
    "def label_broader_safe(data):\n",
    "    safe = []\n",
    "    for i in range(len(data)):\n",
    "        x9, x10, x11 = get_critical_output_data(i)\n",
    "        if x9 < unsafe_params[0] and x10 < unsafe_params[1] and x11 < unsafe_params[2]:\n",
    "            safe.append(True)\n",
    "        else:\n",
    "            safe.append(False)\n",
    "    data['broader_safe'] = safe\n",
    "    return data\n",
    "\n",
    "data = label_broader_safe(data)\n",
    "\n",
    "# count number of False values in safe column\n",
    "print(len(data[data['broader_safe'] == False]))"
   ]
  },
  {
   "cell_type": "code",
   "execution_count": 64,
   "metadata": {},
   "outputs": [
    {
     "name": "stdout",
     "output_type": "stream",
     "text": [
      "    Engine speed  Engine load  Railpressure  Air supply  Crank angle  \\\n",
      "70        1800.0        35.66        1521.7    310.5600         5.69   \n",
      "89        2000.0       139.54        2500.3   1008.3008         3.66   \n",
      "\n",
      "    Intake pressure  Back pressure  Intake temperature         NOx      PM 1  \\\n",
      "70           1123.5         1236.1                60.9   66.869420  4.095885   \n",
      "89           3129.9         3329.4                79.7  328.147428  4.017909   \n",
      "\n",
      "           CO2       PM 2  Pressure cylinder  feasible   safe  broader_safe  \n",
      "70   36.291467  16.283255          60.497930      True  False         False  \n",
      "89  163.080520   4.692198         160.047375      True  False         False  \n"
     ]
    }
   ],
   "source": [
    "# show unsafe data (safe = False)\n",
    "unsafe_data = data[data['safe'] == False]\n",
    "print(unsafe_data)"
   ]
  },
  {
   "cell_type": "code",
   "execution_count": 66,
   "metadata": {},
   "outputs": [
    {
     "name": "stdout",
     "output_type": "stream",
     "text": [
      "Number of unsafe in train:  10\n",
      "Number of unsafe in test:  2\n",
      "Parameters for unsafe data: \n",
      "PM 1:  5\n",
      "PM 2:  13\n",
      "Pressure cylinder:  130\n",
      "Accuracy: 0.9\n"
     ]
    }
   ],
   "source": [
    "# train a model to predict unsafe output\n",
    "from sklearn.model_selection import train_test_split\n",
    "from sklearn.ensemble import RandomForestClassifier\n",
    "from sklearn.metrics import accuracy_score\n",
    "\n",
    "# split data into training and testing data\n",
    "X = data[inputs]\n",
    "y = data['broader_safe']\n",
    "X_train, X_test, y_train, y_test = train_test_split(X, y, test_size=0.2, random_state=42)\n",
    "\n",
    "# count number of False values in y_train and y_test\n",
    "print(\"Number of unsafe in train: \",len(y_train[y_train == False]))\n",
    "print(\"Number of unsafe in test: \",len(y_test[y_test == False]))\n",
    "\n",
    "print(\"Parameters for unsafe data: \")\n",
    "print(\"PM 1: \", unsafe_params[0])\n",
    "print(\"PM 2: \", unsafe_params[1])\n",
    "print(\"Pressure cylinder: \", unsafe_params[2])\n",
    "\n",
    "# train a random forest classifier\n",
    "clf = RandomForestClassifier(n_estimators=100)\n",
    "clf.fit(X_train, y_train)\n",
    "\n",
    "# predict on test data\n",
    "y_pred = clf.predict(X_test)\n",
    "accuracy = accuracy_score(y_test, y_pred)\n",
    "print('Accuracy:', accuracy)"
   ]
  }
 ],
 "metadata": {
  "kernelspec": {
   "display_name": ".venv",
   "language": "python",
   "name": "python3"
  },
  "language_info": {
   "codemirror_mode": {
    "name": "ipython",
    "version": 3
   },
   "file_extension": ".py",
   "mimetype": "text/x-python",
   "name": "python",
   "nbconvert_exporter": "python",
   "pygments_lexer": "ipython3",
   "version": "3.12.0"
  }
 },
 "nbformat": 4,
 "nbformat_minor": 2
}
