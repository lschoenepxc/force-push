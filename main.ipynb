{
 "cells": [
  {
   "cell_type": "markdown",
   "metadata": {},
   "source": [
    "# Start: Analysiere Daten"
   ]
  },
  {
   "cell_type": "code",
   "execution_count": 58,
   "metadata": {},
   "outputs": [],
   "source": [
    "# import initial_data.csv\n",
    "import pandas as pd\n",
    "import numpy as np\n",
    "\n",
    "from feasibility import is_feasible\n",
    "\n",
    "# import data from csv file\n",
    "def import_data():\n",
    "    data = pd.read_csv('initial_data.csv')\n",
    "    return data\n",
    "\n",
    "data = import_data()"
   ]
  },
  {
   "cell_type": "code",
   "execution_count": 59,
   "metadata": {},
   "outputs": [
    {
     "name": "stdout",
     "output_type": "stream",
     "text": [
      "['Engine speed' 'Engine load' 'Railpressure' 'Air supply' 'Crank angle'\n",
      " 'Intake pressure' 'Back pressure' 'Intake temperature' 'NOx' 'PM 1' 'CO2'\n",
      " 'PM 2' 'Pressure cylinder']\n",
      "['Engine speed' 'Engine load' 'Railpressure' 'Air supply' 'Crank angle'\n",
      " 'Intake pressure' 'Back pressure' 'Intake temperature']\n",
      "['NOx' 'PM 1' 'CO2' 'PM 2' 'Pressure cylinder']\n"
     ]
    }
   ],
   "source": [
    "# put column names into a list\n",
    "column_names = data.columns.values\n",
    "print(column_names)\n",
    "inputs = column_names[0:8]\n",
    "print(inputs)\n",
    "outputs = column_names[8:13]\n",
    "print(outputs)"
   ]
  },
  {
   "cell_type": "code",
   "execution_count": 96,
   "metadata": {},
   "outputs": [],
   "source": [
    "def get_input_data(data, row):\n",
    "    x1, x2, x3, x4, x5, x6, x7, x8 = data.iloc[row, 0], data.iloc[row, 1], data.iloc[row, 2], data.iloc[row, 3], data.iloc[row, 4], data.iloc[row, 5], data.iloc[row, 6], data.iloc[row, 7]\n",
    "    return x1, x2, x3, x4, x5, x6, x7, x8\n",
    "\n",
    "def get_output_data(row):\n",
    "    x1, x2, x3, x4, x5 = data.iloc[row, 8], data.iloc[row, 9], data.iloc[row, 10], data.iloc[row, 11], data.iloc[row, 12]\n",
    "    return x1, x2, x3, x4, x5\n",
    "\n",
    "def get_critical_output_data(i):\n",
    "    x1, x2, x3 = data.iloc[i, 9], data.iloc[i, 11], data.iloc[i, 12]\n",
    "    return x1, x2, x3"
   ]
  },
  {
   "cell_type": "code",
   "execution_count": 61,
   "metadata": {},
   "outputs": [],
   "source": [
    "# show if data row is feasible via the first 8 columns and the function is_feasible\n",
    "feasible = []\n",
    "for i in range(len(data)):\n",
    "    x1, x2, x3, x4, x5, x6, x7, x8 = get_input_data(data, i)\n",
    "    # print(x1, x2, x3, x4, x5, x6, x7, x8)\n",
    "    feasible.append(is_feasible(x1, x2, x3, x4, x5, x6, x7, x8))\n",
    "data['feasible'] = feasible"
   ]
  },
  {
   "cell_type": "code",
   "execution_count": 78,
   "metadata": {},
   "outputs": [],
   "source": [
    "# Check if outputs are in safe range\n",
    "# PM 1 < 6, PM 2 < 16, Pressure cylinder < 160\n",
    "\n",
    "def label_safe(data):\n",
    "    safe = []\n",
    "    for i in range(len(data)):\n",
    "        x9, x10, x11 = get_critical_output_data(i)\n",
    "        if x9 < 6 and x10 < 16:\n",
    "            if x11 < 160:\n",
    "                safe.append(0)\n",
    "            else:\n",
    "                safe.append(2)\n",
    "        else:\n",
    "            if x11 < 160:\n",
    "                safe.append(1)\n",
    "            else:\n",
    "                safe.append(2)\n",
    "    data['safe'] = safe\n",
    "    return data\n",
    "\n",
    "data = label_safe(data)"
   ]
  },
  {
   "cell_type": "code",
   "execution_count": 86,
   "metadata": {},
   "outputs": [
    {
     "name": "stdout",
     "output_type": "stream",
     "text": [
      "12\n"
     ]
    }
   ],
   "source": [
    "unsafe_params = [5, 13, 130]\n",
    "\n",
    "# label broader safe range\n",
    "def label_broader_safe(data):\n",
    "    safe = []\n",
    "    for i in range(len(data)):\n",
    "        x9, x10, x11 = get_critical_output_data(i)\n",
    "        if x9 < unsafe_params[0] and x10 < unsafe_params[1]:\n",
    "            if x11 < unsafe_params[2]:\n",
    "                safe.append(0)\n",
    "            else:\n",
    "                safe.append(2)\n",
    "        else:\n",
    "            if x11 < unsafe_params[2]:\n",
    "                safe.append(1)\n",
    "            else:\n",
    "                safe.append(2)\n",
    "    data['broader_safe'] = safe\n",
    "    return data\n",
    "\n",
    "data = label_broader_safe(data)\n",
    "\n",
    "# count number of False values in safe column\n",
    "print((len(data[data['broader_safe'] == 1])+len(data[data['broader_safe'] == 2])))"
   ]
  },
  {
   "cell_type": "code",
   "execution_count": 91,
   "metadata": {},
   "outputs": [
    {
     "name": "stdout",
     "output_type": "stream",
     "text": [
      "    Engine speed  Engine load  Railpressure  Air supply  Crank angle  \\\n",
      "39        1300.0        64.88        1798.9    297.1093        -2.89   \n",
      "46        1400.0        73.39        1887.8    358.3535        -3.64   \n",
      "62        1600.0       135.17        2195.4    740.8542         1.39   \n",
      "68        1700.0       135.93        2298.3    793.9227         2.31   \n",
      "70        1800.0        35.66        1521.7    310.5600         5.69   \n",
      "74        1800.0       122.01        2401.4    787.3758         2.40   \n",
      "75        1800.0       145.02        2378.4    885.3311         2.72   \n",
      "81        1900.0       115.29        2499.3    800.7886         3.08   \n",
      "82        1900.0       138.39        2499.3    922.4504         2.94   \n",
      "88        2000.0       116.28        2499.9    875.2752         3.49   \n",
      "89        2000.0       139.54        2500.3   1008.3008         3.66   \n",
      "95        2100.0       124.97        2500.1   1010.2031         4.27   \n",
      "\n",
      "    Intake pressure  Back pressure  Intake temperature         NOx      PM 1  \\\n",
      "39           1252.0         1236.5                52.0   84.299894  3.417578   \n",
      "46           1404.1         1379.6                52.9  121.801021  3.055122   \n",
      "62           2712.3         2711.7                68.1  330.633693  2.385972   \n",
      "68           2792.6         2846.2                71.7  269.584615  4.134867   \n",
      "70           1123.5         1236.1                60.9   66.869420  4.095885   \n",
      "74           2641.6         2735.6                71.5  281.420460  3.389473   \n",
      "75           2964.4         3036.9                75.2  374.012122  4.490790   \n",
      "81           2581.9         2705.1                72.9  255.291430  3.272382   \n",
      "82           2984.8         3103.4                77.4  310.651825  5.698707   \n",
      "88           2747.6         2907.4                76.7  275.230812  3.440837   \n",
      "89           3129.9         3329.4                79.7  328.147428  4.017909   \n",
      "95           3036.0         3326.6                80.6  278.449031  3.488290   \n",
      "\n",
      "           CO2       PM 2  Pressure cylinder  feasible  safe  broader_safe  \n",
      "39   48.343471  14.369339          66.034153      True     0             1  \n",
      "46   59.061225  13.376995          68.071201      True     0             1  \n",
      "62  127.146015   3.199060         141.649132      True     0             2  \n",
      "68  132.354037   5.149961         138.674467      True     0             2  \n",
      "70   36.291467  16.283255          60.497930      True     1             1  \n",
      "74  129.163775   4.737970         135.807893      True     0             2  \n",
      "75  144.699782   3.411894         149.068618      True     0             2  \n",
      "81  123.216745   6.679379         131.597439      True     0             2  \n",
      "82  155.346276   5.032239         141.236152      True     0             2  \n",
      "88  129.847525   6.919108         135.607219      True     0             2  \n",
      "89  163.080520   4.692198         160.047375      True     2             2  \n",
      "95  146.110064   5.469055         147.986138      True     0             2  \n"
     ]
    }
   ],
   "source": [
    "# show unsafe data (safe == 1 or safe == 2)\n",
    "unsafe_data = data[(data['broader_safe'] == 1) | (data['broader_safe'] == 2)]\n",
    "print(unsafe_data)"
   ]
  },
  {
   "cell_type": "code",
   "execution_count": 94,
   "metadata": {},
   "outputs": [
    {
     "name": "stdout",
     "output_type": "stream",
     "text": [
      "Number of unsafe in training:  10\n",
      "Number of unsafe in testing:  2\n",
      "Parameters for unsafe data: \n",
      "PM 1:  5\n",
      "PM 2:  13\n",
      "Pressure cylinder:  130\n",
      "Accuracy: 0.9\n"
     ]
    }
   ],
   "source": [
    "# train a model to predict unsafe output\n",
    "from sklearn.model_selection import train_test_split\n",
    "from sklearn.ensemble import RandomForestClassifier\n",
    "from sklearn.metrics import accuracy_score\n",
    "\n",
    "# split data into training and testing data\n",
    "X = data[inputs]\n",
    "y = data['broader_safe']\n",
    "X_train, X_test, y_train, y_test = train_test_split(X, y, test_size=0.2, random_state=42)\n",
    "\n",
    "# count number of False values in y_train and y_test\n",
    "print(\"Number of unsafe in training: \",(len(y_train[y_train == 1])+len(y_train[y_train == 2])))\n",
    "print(\"Number of unsafe in testing: \",(len(y_test[y_test == 1])+len(y_test[y_test == 2])))\n",
    "\n",
    "print(\"Parameters for unsafe data: \")\n",
    "print(\"PM 1: \", unsafe_params[0])\n",
    "print(\"PM 2: \", unsafe_params[1])\n",
    "print(\"Pressure cylinder: \", unsafe_params[2])\n",
    "\n",
    "# train a random forest classifier\n",
    "clf = RandomForestClassifier(n_estimators=100)\n",
    "clf.fit(X_train, y_train)\n",
    "\n",
    "# predict on test data\n",
    "y_pred = clf.predict(X_test)\n",
    "accuracy = accuracy_score(y_test, y_pred)\n",
    "print('Accuracy:', accuracy)"
   ]
  },
  {
   "cell_type": "code",
   "execution_count": 93,
   "metadata": {},
   "outputs": [],
   "source": [
    "# submission.csv\n",
    "def import_submission():\n",
    "    submission = pd.read_csv('submission.csv')\n",
    "    return submission\n",
    "\n",
    "submission = import_submission()"
   ]
  },
  {
   "cell_type": "code",
   "execution_count": 97,
   "metadata": {},
   "outputs": [],
   "source": [
    "# show if data row is feasible via the first 8 columns and the function is_feasible\n",
    "feasible = []\n",
    "for i in range(len(submission)):\n",
    "    x1, x2, x3, x4, x5, x6, x7, x8 = get_input_data(submission,i)\n",
    "    # print(x1, x2, x3, x4, x5, x6, x7, x8)\n",
    "    feasible.append(is_feasible(x1, x2, x3, x4, x5, x6, x7, x8))\n",
    "submission['feasible'] = feasible"
   ]
  },
  {
   "cell_type": "code",
   "execution_count": 70,
   "metadata": {},
   "outputs": [
    {
     "data": {
      "image/png": "[encoded data removed]",
      "text/plain": [
       "<Figure size 640x480 with 1 Axes>"
      ]
     },
     "metadata": {},
     "output_type": "display_data"
    }
   ],
   "source": [
    "# find the area with the most data points via k-means clustering\n",
    "import numpy as np\n",
    "from sklearn.cluster import KMeans\n",
    "import matplotlib.pyplot as plt\n",
    "\n",
    "# find number of clusters via elbow method\n",
    "Sum_of_squared_distances = []\n",
    "K = range(1, 15)\n",
    "for k in K:\n",
    "    km = KMeans(n_clusters=k)\n",
    "    km = km.fit(submission)\n",
    "    Sum_of_squared_distances.append(km.inertia_)\n",
    "plt.plot(K, Sum_of_squared_distances, 'bx-')\n",
    "plt.xlabel('k')\n",
    "plt.ylabel('Sum_of_squared_distances')\n",
    "plt.title('Elbow Method For Optimal k')\n",
    "plt.show()\n"
   ]
  },
  {
   "cell_type": "code",
   "execution_count": 104,
   "metadata": {},
   "outputs": [
    {
     "name": "stdout",
     "output_type": "stream",
     "text": [
      "Cluster 0: 9914 Datenpunkte, Mittelpunkt: [1195.16459381   62.70487214 1186.53801027  472.47529944   -0.56454114\n",
      " 2563.86568832 1905.69326218   56.35841732    1.        ], Streuung: 1401.551663936645, Min: + Max: (Range)\n",
      "Cluster 1: 9920 Datenpunkte, Mittelpunkt: [1678.42649037   80.10056747 1677.03559642  653.04175388    0.2402296\n",
      " 2634.83993557 3307.59341327   58.08492258    1.        ], Streuung: 1478.640662403804, Min: + Max: (Range)\n",
      "Cluster 2: 10899 Datenpunkte, Mittelpunkt: [1037.44287445   55.77027482 1094.8070731   414.15337285   -0.7956801\n",
      " 1901.43229242 3313.51335932   55.74604873    1.        ], Streuung: 1405.6012494536915, Min: + Max: (Range)\n",
      "Cluster 3: 9391 Datenpunkte, Mittelpunkt: [1868.90588205   69.45969345 2027.30241711  712.27449918    0.66475872\n",
      " 2164.0042151  1876.92838217   58.02332286    1.        ], Streuung: 1544.2928626853402, Min: + Max: (Range)\n",
      "Cluster 4: 9657 Datenpunkte, Mittelpunkt: [1217.03032171   51.83910309 1215.57495419  468.13248207   -0.53457201\n",
      " 1494.92252207 1775.54264554   56.17989248    1.        ], Streuung: 1503.4073776861403, Min: + Max: (Range)\n",
      "Cluster 5: 8111 Datenpunkte, Mittelpunkt: [1804.29152867   63.20675191 1849.6180294   678.74211269    0.58955198\n",
      " 1580.0563     3210.20411967   57.59949647    1.        ], Streuung: 1436.1966825232907, Min: + Max: (Range)\n"
     ]
    }
   ],
   "source": [
    "# k-Means Clustering durchführen\n",
    "kmeans = KMeans(n_clusters=6)  # s.o.: 6 Cluster\n",
    "kmeans.fit(submission)\n",
    "labels = kmeans.labels_\n",
    "\n",
    "# Format of print without exponential\n",
    "np.set_printoptions(suppress=True)\n",
    "\n",
    "# Größten Cluster finden\n",
    "# unique, counts = np.unique(labels, return_counts=True)\n",
    "# groesster_cluster_index = np.argmax(counts)\n",
    "# groesster_cluster = submission[labels == groesster_cluster_index]\n",
    "\n",
    "# Bereich des größten Clusters bestimmen (durch Mittelpunkt und Streuung)\n",
    "# mittelpunkt = kmeans.cluster_centers_[groesster_cluster_index]\n",
    "# max_distanz = np.max(np.sqrt(np.sum((groesster_cluster - mittelpunkt)**2, axis=1)))\n",
    "\n",
    "# print(f\"Mittelpunkt des größten Clusters: {mittelpunkt}\")\n",
    "# print(f\"Maximale Distanz vom Mittelpunkt: {max_distanz}\")\n",
    "\n",
    "# Größe aller Cluster ausgeben mit deren Mittelpunkt und Streuung\n",
    "allClusters = []\n",
    "for i in range(6):\n",
    "    cluster = submission[labels == i]\n",
    "    mittelpunkt = kmeans.cluster_centers_[i]\n",
    "    streuung = np.max(np.sqrt(np.sum((cluster - mittelpunkt)**2, axis=1)))\n",
    "    # get the ranges of the clusters\n",
    "    min_value = np.min(cluster, axis=0)\n",
    "    max_value = np.max(cluster, axis=0)\n",
    "    allClusters.append((i, len(cluster), mittelpunkt, streuung, min_value, max_value))\n",
    "    print(f\"Cluster {i}: {len(cluster)} Datenpunkte, Mittelpunkt: {mittelpunkt}, Streuung: {streuung}, Min: + Max: (Range)\")"
   ]
  },
  {
   "cell_type": "code",
   "execution_count": 76,
   "metadata": {},
   "outputs": [
    {
     "name": "stdout",
     "output_type": "stream",
     "text": [
      "[[1997.8121513224614, 112.91547887925219, 1645.603139454999, 882.6126624300058, 5.033640047671298, 3007.3658892579892, 2534.258979984933, 72.51886978878605], [1908.404515333474, 18.111656987485343, 2131.5816622721386, 1090.8254882136087, 9.014417345688106, 1903.9834205224897, 1972.0242756293405, 62.77266687333263], [1254.5101207672237, 26.885720493715144, 2655.8731723941605, 1338.3760914642583, 0.7982886240733063, 1334.3885275628606, 1087.1119620508875, 44.10760511663168], [1896.7385696022025, 97.53841938052071, 907.7598856937068, 1126.456420378956, 1.300510024663362, 1503.3333751317473, 1963.603399431302, 68.10102072370529], [1729.127415408652, 34.60317369376545, 2608.647684727711, 555.1063363203986, 11.887857563402505, 1126.3805985988427, 1375.5257946231418, 41.94777435725728], [1079.9359423883986, 23.724396668033094, 1725.9281544130308, 324.95627600401076, 1.3768187352387482, 965.4242640039353, 2343.552328412761, 46.92378817208487], [1279.1320410461237, 132.26124603496623, 2249.1516003111865, 495.1745067782021, -6.945592354331936, 1801.2109081987455, 1049.1644783837996, 57.918065698571525], [2164.2569867385682, 137.26393122593197, 1947.9005596768827, 1031.4685267120751, 1.163226081750972, 2523.4601498486713, 1426.1548474431202, 46.70186166090589], [2242.173858147647, 92.68592800615727, 2694.1846715532365, 1226.928802020495, 3.749003952951746, 1897.9095172658251, 2387.923942121591, 55.231427190545304], [1616.889790075234, 102.7086362819355, 2148.9778340197013, 894.4063700884818, 3.411177017584235, 1331.1569291363887, 2284.992228431832, 39.13888079847329]]\n"
     ]
    },
    {
     "name": "stderr",
     "output_type": "stream",
     "text": [
      "/var/folders/t3/x97qqmj14s9dfss7rn927cvh0000gn/T/ipykernel_39364/2753382777.py:6: FutureWarning: Series.__getitem__ treating keys as positions is deprecated. In a future version, integer keys will always be treated as labels (consistent with DataFrame behavior). To access a value by position, use `ser.iloc[pos]`\n",
      "  random.uniform(groesster_cluster.min()[0], groesster_cluster.max()[0]),\n",
      "/var/folders/t3/x97qqmj14s9dfss7rn927cvh0000gn/T/ipykernel_39364/2753382777.py:7: FutureWarning: Series.__getitem__ treating keys as positions is deprecated. In a future version, integer keys will always be treated as labels (consistent with DataFrame behavior). To access a value by position, use `ser.iloc[pos]`\n",
      "  random.uniform(groesster_cluster.min()[1], groesster_cluster.max()[1]),\n",
      "/var/folders/t3/x97qqmj14s9dfss7rn927cvh0000gn/T/ipykernel_39364/2753382777.py:8: FutureWarning: Series.__getitem__ treating keys as positions is deprecated. In a future version, integer keys will always be treated as labels (consistent with DataFrame behavior). To access a value by position, use `ser.iloc[pos]`\n",
      "  random.uniform(groesster_cluster.min()[2], groesster_cluster.max()[2]),\n",
      "/var/folders/t3/x97qqmj14s9dfss7rn927cvh0000gn/T/ipykernel_39364/2753382777.py:9: FutureWarning: Series.__getitem__ treating keys as positions is deprecated. In a future version, integer keys will always be treated as labels (consistent with DataFrame behavior). To access a value by position, use `ser.iloc[pos]`\n",
      "  random.uniform(groesster_cluster.min()[3], groesster_cluster.max()[3]),\n",
      "/var/folders/t3/x97qqmj14s9dfss7rn927cvh0000gn/T/ipykernel_39364/2753382777.py:10: FutureWarning: Series.__getitem__ treating keys as positions is deprecated. In a future version, integer keys will always be treated as labels (consistent with DataFrame behavior). To access a value by position, use `ser.iloc[pos]`\n",
      "  random.uniform(groesster_cluster.min()[4], groesster_cluster.max()[4]),\n",
      "/var/folders/t3/x97qqmj14s9dfss7rn927cvh0000gn/T/ipykernel_39364/2753382777.py:11: FutureWarning: Series.__getitem__ treating keys as positions is deprecated. In a future version, integer keys will always be treated as labels (consistent with DataFrame behavior). To access a value by position, use `ser.iloc[pos]`\n",
      "  random.uniform(groesster_cluster.min()[5], groesster_cluster.max()[5]),\n",
      "/var/folders/t3/x97qqmj14s9dfss7rn927cvh0000gn/T/ipykernel_39364/2753382777.py:12: FutureWarning: Series.__getitem__ treating keys as positions is deprecated. In a future version, integer keys will always be treated as labels (consistent with DataFrame behavior). To access a value by position, use `ser.iloc[pos]`\n",
      "  random.uniform(groesster_cluster.min()[6], groesster_cluster.max()[6]),\n",
      "/var/folders/t3/x97qqmj14s9dfss7rn927cvh0000gn/T/ipykernel_39364/2753382777.py:13: FutureWarning: Series.__getitem__ treating keys as positions is deprecated. In a future version, integer keys will always be treated as labels (consistent with DataFrame behavior). To access a value by position, use `ser.iloc[pos]`\n",
      "  random.uniform(groesster_cluster.min()[7], groesster_cluster.max()[7])\n"
     ]
    }
   ],
   "source": [
    "# generate random data points in the range of the largest cluster\n",
    "import random\n",
    "random_data = []\n",
    "for i in range(10):\n",
    "    random_data.append([\n",
    "        random.uniform(groesster_cluster.min()[0], groesster_cluster.max()[0]),\n",
    "        random.uniform(groesster_cluster.min()[1], groesster_cluster.max()[1]),\n",
    "        random.uniform(groesster_cluster.min()[2], groesster_cluster.max()[2]),\n",
    "        random.uniform(groesster_cluster.min()[3], groesster_cluster.max()[3]),\n",
    "        random.uniform(groesster_cluster.min()[4], groesster_cluster.max()[4]),\n",
    "        random.uniform(groesster_cluster.min()[5], groesster_cluster.max()[5]),\n",
    "        random.uniform(groesster_cluster.min()[6], groesster_cluster.max()[6]),\n",
    "        random.uniform(groesster_cluster.min()[7], groesster_cluster.max()[7])\n",
    "    ])\n",
    "print(random_data)"
   ]
  },
  {
   "cell_type": "code",
   "execution_count": 95,
   "metadata": {},
   "outputs": [
    {
     "name": "stdout",
     "output_type": "stream",
     "text": [
      "[0]\n",
      "[2 0 0 0 0 0 0 0 0 0]\n"
     ]
    },
    {
     "name": "stderr",
     "output_type": "stream",
     "text": [
      "/Users/lauraschone/Desktop/repos/force-push/.venv/lib/python3.12/site-packages/sklearn/base.py:493: UserWarning: X does not have valid feature names, but RandomForestClassifier was fitted with feature names\n",
      "  warnings.warn(\n",
      "/Users/lauraschone/Desktop/repos/force-push/.venv/lib/python3.12/site-packages/sklearn/base.py:493: UserWarning: X does not have valid feature names, but RandomForestClassifier was fitted with feature names\n",
      "  warnings.warn(\n"
     ]
    }
   ],
   "source": [
    "# predict safe or unsafe for the cluster center\n",
    "print(clf.predict([mittelpunkt])) # 0 means safe, 1 means semi-safe, 2 means dangerous--> 0\n",
    "\n",
    "# predict safe or unsafe for the random data points\n",
    "print(clf.predict(random_data)) # True means safe, False means unsafe --> True"
   ]
  },
  {
   "cell_type": "markdown",
   "metadata": {},
   "source": [
    "random data:\n",
    "\n",
    "\n",
    "[[1997.8121513224614, 112.91547887925219, 1645.603139454999, 882.6126624300058, 5.033640047671298, 3007.3658892579892, 2534.258979984933, 72.51886978878605], \n",
    "\n",
    "[1908.404515333474, 18.111656987485343, 2131.5816622721386, 1090.8254882136087, 9.014417345688106, 1903.9834205224897, 1972.0242756293405, 62.77266687333263], \n",
    "\n",
    "[1254.5101207672237, 26.885720493715144, 2655.8731723941605, 1338.3760914642583, 0.7982886240733063, 1334.3885275628606, 1087.1119620508875, 44.10760511663168], \n",
    "\n",
    "[1896.7385696022025, 97.53841938052071, 907.7598856937068, 1126.456420378956, 1.300510024663362, 1503.3333751317473, 1963.603399431302, 68.10102072370529], \n",
    "\n",
    "[1729.127415408652, 34.60317369376545, 2608.647684727711, 555.1063363203986, 11.887857563402505, 1126.3805985988427, 1375.5257946231418, 41.94777435725728], \n",
    "\n",
    "[1079.9359423883986, 23.724396668033094, 1725.9281544130308, 324.95627600401076, 1.3768187352387482, 965.4242640039353, 2343.552328412761, 46.92378817208487], \n",
    "\n",
    "[1279.1320410461237, 132.26124603496623, 2249.1516003111865, 495.1745067782021, -6.945592354331936, 1801.2109081987455, 1049.1644783837996, 57.918065698571525], \n",
    "\n",
    "[2164.2569867385682, 137.26393122593197, 1947.9005596768827, 1031.4685267120751, 1.163226081750972, 2523.4601498486713, 1426.1548474431202, 46.70186166090589], \n",
    "\n",
    "[2242.173858147647, 92.68592800615727, 2694.1846715532365, 1226.928802020495, 3.749003952951746, 1897.9095172658251, 2387.923942121591, 55.231427190545304], \n",
    "\n",
    "[1616.889790075234, 102.7086362819355, 2148.9778340197013, 894.4063700884818, 3.411177017584235, 1331.1569291363887, 2284.992228431832, 39.13888079847329]]\n"
   ]
  }
 ],
 "metadata": {
  "kernelspec": {
   "display_name": ".venv",
   "language": "python",
   "name": "python3"
  },
  "language_info": {
   "codemirror_mode": {
    "name": "ipython",
    "version": 3
   },
   "file_extension": ".py",
   "mimetype": "text/x-python",
   "name": "python",
   "nbconvert_exporter": "python",
   "pygments_lexer": "ipython3",
   "version": "3.12.0"
  }
 },
 "nbformat": 4,
 "nbformat_minor": 2
}
