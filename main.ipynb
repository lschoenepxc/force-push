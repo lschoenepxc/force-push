{
 "cells": [
  {
   "cell_type": "markdown",
   "metadata": {},
   "source": [
    "# Start: Analysiere Daten"
   ]
  },
  {
   "cell_type": "code",
   "execution_count": 2,
   "metadata": {},
   "outputs": [],
   "source": [
    "# import initial_data.csv\n",
    "import pandas as pd\n",
    "import numpy as np\n",
    "\n",
    "from feasibility import is_feasible\n",
    "\n",
    "# import data from csv file\n",
    "def import_data():\n",
    "    data = pd.read_csv('initial_data.csv')\n",
    "    return data\n",
    "\n",
    "data = import_data()"
   ]
  },
  {
   "cell_type": "code",
   "execution_count": 3,
   "metadata": {},
   "outputs": [
    {
     "name": "stdout",
     "output_type": "stream",
     "text": [
      "['Engine speed' 'Engine load' 'Railpressure' 'Air supply' 'Crank angle'\n",
      " 'Intake pressure' 'Back pressure' 'Intake temperature' 'NOx' 'PM 1' 'CO2'\n",
      " 'PM 2' 'Pressure cylinder']\n",
      "['Engine speed' 'Engine load' 'Railpressure' 'Air supply' 'Crank angle'\n",
      " 'Intake pressure' 'Back pressure' 'Intake temperature']\n",
      "['NOx' 'PM 1' 'CO2' 'PM 2' 'Pressure cylinder']\n"
     ]
    }
   ],
   "source": [
    "# put column names into a list\n",
    "column_names = data.columns.values\n",
    "print(column_names)\n",
    "inputs = column_names[0:8]\n",
    "print(inputs)\n",
    "outputs = column_names[8:13]\n",
    "print(outputs)"
   ]
  },
  {
   "cell_type": "code",
   "execution_count": 4,
   "metadata": {},
   "outputs": [],
   "source": [
    "def get_input_data(row):\n",
    "    x1, x2, x3, x4, x5, x6, x7, x8 = data.iloc[row, 0], data.iloc[row, 1], data.iloc[row, 2], data.iloc[row, 3], data.iloc[row, 4], data.iloc[row, 5], data.iloc[row, 6], data.iloc[row, 7]\n",
    "    return x1, x2, x3, x4, x5, x6, x7, x8\n",
    "\n",
    "def get_output_data(row):\n",
    "    x1, x2, x3, x4, x5 = data.iloc[row, 8], data.iloc[row, 9], data.iloc[row, 10], data.iloc[row, 11], data.iloc[row, 12]\n",
    "    return x1, x2, x3, x4, x5\n",
    "\n",
    "def get_critical_output_data(i):\n",
    "    x1, x2, x3 = data.iloc[i, 9], data.iloc[i, 11], data.iloc[i, 12]\n",
    "    return x1, x2, x3"
   ]
  },
  {
   "cell_type": "code",
   "execution_count": 5,
   "metadata": {},
   "outputs": [],
   "source": [
    "# show if data row is feasible via the first 8 columns and the function is_feasible\n",
    "feasible = []\n",
    "for i in range(len(data)):\n",
    "    x1, x2, x3, x4, x5, x6, x7, x8 = get_input_data(i)\n",
    "    # print(x1, x2, x3, x4, x5, x6, x7, x8)\n",
    "    feasible.append(is_feasible(x1, x2, x3, x4, x5, x6, x7, x8))\n",
    "data['feasible'] = feasible"
   ]
  },
  {
   "cell_type": "code",
   "execution_count": 6,
   "metadata": {},
   "outputs": [],
   "source": [
    "# Check if outputs are in safe range\n",
    "# PM 1 < 6, PM 2 < 16, Pressure cylinder < 160\n",
    "safe = []\n",
    "for i in range(len(data)):\n",
    "    x9, x10, x11 = get_critical_output_data(i)\n",
    "    if x9 < 6 and x10 < 16 and x11 < 160:\n",
    "        safe.append(True)\n",
    "    else:\n",
    "        safe.append(False)\n",
    "data['safe'] = safe"
   ]
  },
  {
   "cell_type": "code",
   "execution_count": 7,
   "metadata": {},
   "outputs": [
    {
     "name": "stdout",
     "output_type": "stream",
     "text": [
      "    Engine speed  Engine load  Railpressure  Air supply  Crank angle  \\\n",
      "70        1800.0        35.66        1521.7    310.5600         5.69   \n",
      "89        2000.0       139.54        2500.3   1008.3008         3.66   \n",
      "\n",
      "    Intake pressure  Back pressure  Intake temperature         NOx      PM 1  \\\n",
      "70           1123.5         1236.1                60.9   66.869420  4.095885   \n",
      "89           3129.9         3329.4                79.7  328.147428  4.017909   \n",
      "\n",
      "           CO2       PM 2  Pressure cylinder  feasible   safe  \n",
      "70   36.291467  16.283255          60.497930      True  False  \n",
      "89  163.080520   4.692198         160.047375      True  False  \n"
     ]
    }
   ],
   "source": [
    "# show unsafe data (safe = False)\n",
    "unsafe_data = data[data['safe'] == False]\n",
    "print(unsafe_data)"
   ]
  },
  {
   "cell_type": "code",
   "execution_count": 8,
   "metadata": {},
   "outputs": [],
   "source": [
    "# predict when to get safe data and when to get unsafe data\n",
    "# PM 1 < 6, PM 2 < 16, Pressure cylinder < 160"
   ]
  },
  {
   "cell_type": "code",
   "execution_count": 5,
   "metadata": {},
   "outputs": [
    {
     "name": "stdout",
     "output_type": "stream",
     "text": [
      "['Engine speed', 'Engine load', 'Railpressure', 'Air supply', 'Crank angle', 'Intake pressure', 'Back pressure', 'Intake temperature', 'NOx', 'PM 1', 'CO2', 'PM 2', 'Pressure cylinder', 'costs']\n",
      "['700', '7.33', '500.9', '78.3753', '1.91', '967.5', '1027.2', '65.5', '15.851380240572826', '0.13141209808324952', '2.9288776008636166', '2.2285245004540064', '43.95540914698391', '1']\n",
      "['1868.56556485', '70.22861855', '2006.71078088', '713.87079231', '0.686327', '2155.33490657', '1955.29547907', '58.08805416', '299.3046013141297', '2.0448786460859996', '71.06901928396269', '0.04474019224655955', '110.99892178150688', '1']\n",
      "['1997.8121513224614', '112.91547887925219', '1645.603139454999', '882.6126624300058', '5.033640047671298', '3007.3658892579892', '2534.258979984933', '72.51886978878605', '329.17019939060305', '4.9436483453137035', '139.07088250811285', '5505.047499557287', '147.62142320789607', '2']\n",
      "['816.4712565906533', '37.609734587256995', '900.1427871055062', '228.42045796100746', '-8.592515890505748', '1981.8799610478413', '3509.5803914574226', '48.709871706251796', '125.10746278858385', '0.4371585551795759', '20.70223941458411', '3.4443235692265173', '102.99879114216813', '1']\n",
      "['987.4114939596939', '47.15993637410995', '956.1460928305914', '355.8552731105252', '-5.385728122972591', '1032.9742370562933', '2954.236837365604', '50.21321767479369', '135.17936868175482', '1.1070028111409944', '31.567073810913026', '1.4143872967935052', '66.17497866274628', '1']\n"
     ]
    }
   ],
   "source": [
    "import csv\n",
    "import re\n",
    "\n",
    "def read_csv_file(file_path):\n",
    "    # Initialisiere eine leere Liste, um die bereinigten Daten zu speichern\n",
    "    cleaned_data = []\n",
    "\n",
    "    # Lese die CSV-Datei\n",
    "    with open(file_path, 'r') as csvfile:\n",
    "        reader = csv.reader(csvfile, delimiter=';')  # Annahme: Semikolon als Trennzeichen\n",
    "        for row in reader:\n",
    "            # Verbinde die Zeilenelemente mit einem Komma, um das Trennzeichen zu vereinheitlichen\n",
    "            unified_row = ','.join(row)\n",
    "            # Ersetze mehrere aufeinander folgende Kommas durch ein einzelnes Komma\n",
    "            unified_row = re.sub(r',+', ',', unified_row)\n",
    "            # Teile die vereinheitlichte Zeile nach dem Komma auf\n",
    "            split_row = unified_row.split(',')\n",
    "            # Entferne die ersten zwei Parameter\n",
    "            cleaned_row = split_row[1:]\n",
    "            # Füge die bereinigte Zeile der Liste hinzu\n",
    "            cleaned_data.append(cleaned_row)\n",
    "\n",
    "    return cleaned_data\n",
    "\n",
    "# Beispiel: Daten aus \"input.csv\" einlesen\n",
    "input_file_path = \"C:/Users/CM3EXN/dev/force-push/querys_ForcePush (1).csv\"\n",
    "cleaned_data = read_csv_file(input_file_path)\n",
    "\n",
    "# Bereinigte Daten ausgeben\n",
    "for row in cleaned_data:\n",
    "    print(row)\n"
   ]
  }
 ],
 "metadata": {
  "kernelspec": {
   "display_name": ".venv",
   "language": "python",
   "name": "python3"
  },
  "language_info": {
   "codemirror_mode": {
    "name": "ipython",
    "version": 3
   },
   "file_extension": ".py",
   "mimetype": "text/x-python",
   "name": "python",
   "nbconvert_exporter": "python",
   "pygments_lexer": "ipython3",
   "version": "3.10.4"
  }
 },
 "nbformat": 4,
 "nbformat_minor": 2
}
